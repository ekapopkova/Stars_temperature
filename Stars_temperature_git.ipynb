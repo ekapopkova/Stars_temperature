{
 "cells": [
  {
   "cell_type": "markdown",
   "id": "006a3ba8",
   "metadata": {},
   "source": [
    "# Прогнозирование температуры звезды\n",
    "\n",
    "Задача от обсерватории «Небо на ладони»: придумать, как с помощью нейросети определять температуру на поверхности обнаруженных звёзд. Обычно для расчёта температуры учёные пользуются следующими методами:\n",
    "Закон смещения Вина.\n",
    "Закон Стефана-Больцмана.\n",
    "Спектральный анализ.\n",
    "Каждый из них имеет плюсы и минусы. Обсерватория хочет внедрить технологии машинного обучения для предсказания температуры звёзд, надеясь, что этот метод будет наиболее точным и удобным.\n",
    "В базе обсерватории есть характеристики уже изученных 240 звёзд.\n",
    "\n",
    "Характеристики:\n",
    "\n",
    "Относительная светимость L/Lo — светимость звезды относительно Солнца.\n",
    "\n",
    "Относительный радиус R/Ro — радиус звезды относительно радиуса Солнца.\n",
    "\n",
    "Абсолютная звёздная величина Mv — физическая величина, характеризующая блеск звезды.\n",
    "\n",
    "Звёздный цвет (white, red, blue, yellow, yellow-orange и др.) — цвет звезды, который определяют на основе спектрального анализа.\n",
    "\n",
    "Тип звезды.\n",
    "Тип звезды\tНомер, соответствующий типу:\n",
    "\n",
    " - Коричневый карлик\t0\n",
    " \n",
    " - Красный карлик\t1\n",
    " \n",
    " - Белый карлик\t2\n",
    " \n",
    " - Звёзды главной последовательности\t3\n",
    " \n",
    " - Сверхгигант\t4\n",
    " \n",
    " - Гипергигант\t5\n",
    " \n",
    "Абсолютная температура T(K) — температура на поверхности звезды в Кельвинах.\n",
    "\n",
    "Необходимо разработать нейронную сеть, которая поможет предсказывать абсолютную температуру на поверхности звезды."
   ]
  },
  {
   "cell_type": "markdown",
   "id": "51b311a9",
   "metadata": {},
   "source": [
    "## Загрузка данных"
   ]
  },
  {
   "cell_type": "markdown",
   "id": "bc4cbae2",
   "metadata": {},
   "source": [
    "### Импортируем необходимые нам библиотеки и функции"
   ]
  },
  {
   "cell_type": "code",
   "execution_count": 1,
   "id": "13bbf853",
   "metadata": {},
   "outputs": [],
   "source": [
    "!pip install -q  torch\n",
    "!pip install -q skorch"
   ]
  },
  {
   "cell_type": "code",
   "execution_count": 2,
   "id": "a76393f8",
   "metadata": {},
   "outputs": [],
   "source": [
    "import pandas as pd\n",
    "import numpy as np\n",
    "import seaborn as sns\n",
    "import matplotlib.pyplot as plt\n",
    "from math import ceil\n",
    "import random\n",
    "\n",
    "\n",
    "import torch\n",
    "import torch.nn as nn\n",
    "from torch.utils.data import Dataset, DataLoader\n",
    "\n",
    "import sklearn\n",
    "from sklearn.model_selection import train_test_split, RandomizedSearchCV, GridSearchCV\n",
    "from sklearn.preprocessing import StandardScaler, OneHotEncoder\n",
    "\n",
    "\n",
    "import os\n",
    "\n",
    "\n",
    "from skorch.callbacks import EpochScoring, EarlyStopping\n",
    "from skorch.dataset import ValidSplit \n",
    "\n",
    "from skorch import NeuralNetRegressor\n",
    "\n",
    "from sklearn.metrics import make_scorer\n",
    "from sklearn.metrics import mean_squared_error\n",
    "\n",
    "from sklearn.model_selection import cross_val_score"
   ]
  },
  {
   "cell_type": "code",
   "execution_count": 3,
   "id": "d4b4cb61",
   "metadata": {},
   "outputs": [],
   "source": [
    "RANDOM_STATE = 12"
   ]
  },
  {
   "cell_type": "markdown",
   "id": "a4df3bab",
   "metadata": {},
   "source": [
    "### Напишем функцию для получения информации о датасете (вывод первых пяти срок, общей информации методом info(), описания информации в столбцах методом discribe(), построение гистограмм для визуализации распределения данных в столбцах), наличия явных дубликатов, построения матрицы корреляции с визуализацией в seaborn."
   ]
  },
  {
   "cell_type": "code",
   "execution_count": 4,
   "id": "61d8d6a2",
   "metadata": {},
   "outputs": [],
   "source": [
    "def get_info(data):\n",
    "    display('Вывод первых 5-ти строк датасета', data.head())\n",
    "    display(data.info())\n",
    "    print('Количество явных дубликатов:', data.duplicated().sum())\n",
    "    display(data.describe())\n",
    "    data.hist(figsize=(9, 9));\n",
    "    fig, ax = plt.subplots(figsize=(8, 5))\n",
    "    sns.heatmap(data.corr(), annot = True, fmt='.2g', vmin=-1, vmax=1, center= 0, cmap= 'coolwarm', \n",
    "                annot_kws={\"fontsize\":8})\n",
    "    plt.title('Матирица корреляции Пирсона')"
   ]
  },
  {
   "cell_type": "markdown",
   "id": "0ccb541b",
   "metadata": {},
   "source": [
    "### Cчитываем данные из файла , сохраняем его в переменной df, получаем общую информацию о датафрейме с помощью функции get_info()"
   ]
  },
  {
   "cell_type": "code",
   "execution_count": 5,
   "id": "3e3b5e87",
   "metadata": {
    "scrolled": false
   },
   "outputs": [
    {
     "data": {
      "text/plain": [
       "'Вывод первых 5-ти строк датасета'"
      ]
     },
     "metadata": {},
     "output_type": "display_data"
    },
    {
     "data": {
      "text/html": [
       "<div>\n",
       "<style scoped>\n",
       "    .dataframe tbody tr th:only-of-type {\n",
       "        vertical-align: middle;\n",
       "    }\n",
       "\n",
       "    .dataframe tbody tr th {\n",
       "        vertical-align: top;\n",
       "    }\n",
       "\n",
       "    .dataframe thead th {\n",
       "        text-align: right;\n",
       "    }\n",
       "</style>\n",
       "<table border=\"1\" class=\"dataframe\">\n",
       "  <thead>\n",
       "    <tr style=\"text-align: right;\">\n",
       "      <th></th>\n",
       "      <th>Unnamed: 0</th>\n",
       "      <th>Temperature (K)</th>\n",
       "      <th>Luminosity(L/Lo)</th>\n",
       "      <th>Radius(R/Ro)</th>\n",
       "      <th>Absolute magnitude(Mv)</th>\n",
       "      <th>Star type</th>\n",
       "      <th>Star color</th>\n",
       "    </tr>\n",
       "  </thead>\n",
       "  <tbody>\n",
       "    <tr>\n",
       "      <th>0</th>\n",
       "      <td>0</td>\n",
       "      <td>3068</td>\n",
       "      <td>0.002400</td>\n",
       "      <td>0.1700</td>\n",
       "      <td>16.12</td>\n",
       "      <td>0</td>\n",
       "      <td>Red</td>\n",
       "    </tr>\n",
       "    <tr>\n",
       "      <th>1</th>\n",
       "      <td>1</td>\n",
       "      <td>3042</td>\n",
       "      <td>0.000500</td>\n",
       "      <td>0.1542</td>\n",
       "      <td>16.60</td>\n",
       "      <td>0</td>\n",
       "      <td>Red</td>\n",
       "    </tr>\n",
       "    <tr>\n",
       "      <th>2</th>\n",
       "      <td>2</td>\n",
       "      <td>2600</td>\n",
       "      <td>0.000300</td>\n",
       "      <td>0.1020</td>\n",
       "      <td>18.70</td>\n",
       "      <td>0</td>\n",
       "      <td>Red</td>\n",
       "    </tr>\n",
       "    <tr>\n",
       "      <th>3</th>\n",
       "      <td>3</td>\n",
       "      <td>2800</td>\n",
       "      <td>0.000200</td>\n",
       "      <td>0.1600</td>\n",
       "      <td>16.65</td>\n",
       "      <td>0</td>\n",
       "      <td>Red</td>\n",
       "    </tr>\n",
       "    <tr>\n",
       "      <th>4</th>\n",
       "      <td>4</td>\n",
       "      <td>1939</td>\n",
       "      <td>0.000138</td>\n",
       "      <td>0.1030</td>\n",
       "      <td>20.06</td>\n",
       "      <td>0</td>\n",
       "      <td>Red</td>\n",
       "    </tr>\n",
       "  </tbody>\n",
       "</table>\n",
       "</div>"
      ],
      "text/plain": [
       "   Unnamed: 0  Temperature (K)  Luminosity(L/Lo)  Radius(R/Ro)  \\\n",
       "0           0             3068          0.002400        0.1700   \n",
       "1           1             3042          0.000500        0.1542   \n",
       "2           2             2600          0.000300        0.1020   \n",
       "3           3             2800          0.000200        0.1600   \n",
       "4           4             1939          0.000138        0.1030   \n",
       "\n",
       "   Absolute magnitude(Mv)  Star type Star color  \n",
       "0                   16.12          0        Red  \n",
       "1                   16.60          0        Red  \n",
       "2                   18.70          0        Red  \n",
       "3                   16.65          0        Red  \n",
       "4                   20.06          0        Red  "
      ]
     },
     "metadata": {},
     "output_type": "display_data"
    },
    {
     "name": "stdout",
     "output_type": "stream",
     "text": [
      "<class 'pandas.core.frame.DataFrame'>\n",
      "RangeIndex: 240 entries, 0 to 239\n",
      "Data columns (total 7 columns):\n",
      " #   Column                  Non-Null Count  Dtype  \n",
      "---  ------                  --------------  -----  \n",
      " 0   Unnamed: 0              240 non-null    int64  \n",
      " 1   Temperature (K)         240 non-null    int64  \n",
      " 2   Luminosity(L/Lo)        240 non-null    float64\n",
      " 3   Radius(R/Ro)            240 non-null    float64\n",
      " 4   Absolute magnitude(Mv)  240 non-null    float64\n",
      " 5   Star type               240 non-null    int64  \n",
      " 6   Star color              240 non-null    object \n",
      "dtypes: float64(3), int64(3), object(1)\n",
      "memory usage: 13.2+ KB\n"
     ]
    },
    {
     "data": {
      "text/plain": [
       "None"
      ]
     },
     "metadata": {},
     "output_type": "display_data"
    },
    {
     "name": "stdout",
     "output_type": "stream",
     "text": [
      "Количество явных дубликатов: 0\n"
     ]
    },
    {
     "data": {
      "text/html": [
       "<div>\n",
       "<style scoped>\n",
       "    .dataframe tbody tr th:only-of-type {\n",
       "        vertical-align: middle;\n",
       "    }\n",
       "\n",
       "    .dataframe tbody tr th {\n",
       "        vertical-align: top;\n",
       "    }\n",
       "\n",
       "    .dataframe thead th {\n",
       "        text-align: right;\n",
       "    }\n",
       "</style>\n",
       "<table border=\"1\" class=\"dataframe\">\n",
       "  <thead>\n",
       "    <tr style=\"text-align: right;\">\n",
       "      <th></th>\n",
       "      <th>Unnamed: 0</th>\n",
       "      <th>Temperature (K)</th>\n",
       "      <th>Luminosity(L/Lo)</th>\n",
       "      <th>Radius(R/Ro)</th>\n",
       "      <th>Absolute magnitude(Mv)</th>\n",
       "      <th>Star type</th>\n",
       "    </tr>\n",
       "  </thead>\n",
       "  <tbody>\n",
       "    <tr>\n",
       "      <th>count</th>\n",
       "      <td>240.00000</td>\n",
       "      <td>240.000000</td>\n",
       "      <td>240.000000</td>\n",
       "      <td>240.000000</td>\n",
       "      <td>240.000000</td>\n",
       "      <td>240.000000</td>\n",
       "    </tr>\n",
       "    <tr>\n",
       "      <th>mean</th>\n",
       "      <td>119.50000</td>\n",
       "      <td>10497.462500</td>\n",
       "      <td>107188.361635</td>\n",
       "      <td>237.157781</td>\n",
       "      <td>4.382396</td>\n",
       "      <td>2.500000</td>\n",
       "    </tr>\n",
       "    <tr>\n",
       "      <th>std</th>\n",
       "      <td>69.42622</td>\n",
       "      <td>9552.425037</td>\n",
       "      <td>179432.244940</td>\n",
       "      <td>517.155763</td>\n",
       "      <td>10.532512</td>\n",
       "      <td>1.711394</td>\n",
       "    </tr>\n",
       "    <tr>\n",
       "      <th>min</th>\n",
       "      <td>0.00000</td>\n",
       "      <td>1939.000000</td>\n",
       "      <td>0.000080</td>\n",
       "      <td>0.008400</td>\n",
       "      <td>-11.920000</td>\n",
       "      <td>0.000000</td>\n",
       "    </tr>\n",
       "    <tr>\n",
       "      <th>25%</th>\n",
       "      <td>59.75000</td>\n",
       "      <td>3344.250000</td>\n",
       "      <td>0.000865</td>\n",
       "      <td>0.102750</td>\n",
       "      <td>-6.232500</td>\n",
       "      <td>1.000000</td>\n",
       "    </tr>\n",
       "    <tr>\n",
       "      <th>50%</th>\n",
       "      <td>119.50000</td>\n",
       "      <td>5776.000000</td>\n",
       "      <td>0.070500</td>\n",
       "      <td>0.762500</td>\n",
       "      <td>8.313000</td>\n",
       "      <td>2.500000</td>\n",
       "    </tr>\n",
       "    <tr>\n",
       "      <th>75%</th>\n",
       "      <td>179.25000</td>\n",
       "      <td>15055.500000</td>\n",
       "      <td>198050.000000</td>\n",
       "      <td>42.750000</td>\n",
       "      <td>13.697500</td>\n",
       "      <td>4.000000</td>\n",
       "    </tr>\n",
       "    <tr>\n",
       "      <th>max</th>\n",
       "      <td>239.00000</td>\n",
       "      <td>40000.000000</td>\n",
       "      <td>849420.000000</td>\n",
       "      <td>1948.500000</td>\n",
       "      <td>20.060000</td>\n",
       "      <td>5.000000</td>\n",
       "    </tr>\n",
       "  </tbody>\n",
       "</table>\n",
       "</div>"
      ],
      "text/plain": [
       "       Unnamed: 0  Temperature (K)  Luminosity(L/Lo)  Radius(R/Ro)  \\\n",
       "count   240.00000       240.000000        240.000000    240.000000   \n",
       "mean    119.50000     10497.462500     107188.361635    237.157781   \n",
       "std      69.42622      9552.425037     179432.244940    517.155763   \n",
       "min       0.00000      1939.000000          0.000080      0.008400   \n",
       "25%      59.75000      3344.250000          0.000865      0.102750   \n",
       "50%     119.50000      5776.000000          0.070500      0.762500   \n",
       "75%     179.25000     15055.500000     198050.000000     42.750000   \n",
       "max     239.00000     40000.000000     849420.000000   1948.500000   \n",
       "\n",
       "       Absolute magnitude(Mv)   Star type  \n",
       "count              240.000000  240.000000  \n",
       "mean                 4.382396    2.500000  \n",
       "std                 10.532512    1.711394  \n",
       "min                -11.920000    0.000000  \n",
       "25%                 -6.232500    1.000000  \n",
       "50%                  8.313000    2.500000  \n",
       "75%                 13.697500    4.000000  \n",
       "max                 20.060000    5.000000  "
      ]
     },
     "metadata": {},
     "output_type": "display_data"
    },
    {
     "data": {
      "image/png": "[encoded data removed]",
      "text/plain": [
       "<Figure size 900x900 with 6 Axes>"
      ]
     },
     "metadata": {},
     "output_type": "display_data"
    },
    {
     "data": {
      "image/png": "[encoded data removed]",
      "text/plain": [
       "<Figure size 800x500 with 2 Axes>"
      ]
     },
     "metadata": {},
     "output_type": "display_data"
    }
   ],
   "source": [
    "pth1 = '6_class.csv'\n",
    "pth2 = '/datasets/6_class.csv'\n",
    "\n",
    "if os.path.exists(pth1):\n",
    "    df = pd.read_csv(pth1)\n",
    "elif os.path.exists(pth2):\n",
    "    df = pd.read_csv(pth2)\n",
    "else:\n",
    "    print('Something is wrong')\n",
    "get_info(df)    "
   ]
  },
  {
   "cell_type": "markdown",
   "id": "46cc9924",
   "metadata": {},
   "source": [
    "**Выводы:** Из полученной инфоромации мы видем, что размер дата фрейма - 240 строк на 7 столбцов. Явных дубликатов и пропусков в данных нет. Тип данныйх в столбце Star type необходимо перевести в формат object, т.к. фактически это категориальные данны. Видим, что в дальнейшем можно удалить столбц Unnamed, т.к. он не информативен для дальнейшего обучения нейронной сети. Из матрицы корреляции видно, что есть два мультиколлениарных признака Star type и Absolute magnitude. В столбцах Temperature(K), Luminosity(L/Lo), Radius(R/Ro) - наблюдаются выбросы. Рассмотрим их далее более детально. Распределение количественных признаков не относитсмя к нормальномую.  Название столбцов лучше изменить, т.к они не соответсвуют правилам написания (убрать пропуски и заменить пропуски на нижнее подчеркивание)."
   ]
  },
  {
   "cell_type": "markdown",
   "id": "2da92ce9",
   "metadata": {},
   "source": [
    "### Изменяем названия столбцов"
   ]
  },
  {
   "cell_type": "code",
   "execution_count": 6,
   "id": "65533740",
   "metadata": {},
   "outputs": [
    {
     "data": {
      "text/plain": [
       "Index(['Unnamed: 0', 'temperature_k', 'luminosityr', 'radius',\n",
       "       'absolute_magnitude_mv', 'star_type', 'star_color'],\n",
       "      dtype='object')"
      ]
     },
     "execution_count": 6,
     "metadata": {},
     "output_type": "execute_result"
    }
   ],
   "source": [
    "df.rename(columns = {'Temperature (K)': 'temperature_k', 'Absolute magnitude(Mv)': 'absolute_magnitude_mv',\n",
    "                    'Star type': 'star_type', 'Star color': 'star_color', 'Luminosity(L/Lo)': 'luminosityr', 'Radius(R/Ro)': 'radius'}, inplace = True )\n",
    "df.columns"
   ]
  },
  {
   "cell_type": "markdown",
   "id": "80f8d964",
   "metadata": {},
   "source": [
    "### Изменяем тип данных в столбце Star type и Star color"
   ]
  },
  {
   "cell_type": "code",
   "execution_count": 7,
   "id": "0f533a31",
   "metadata": {},
   "outputs": [],
   "source": [
    "df['star_type'] = df['star_type'].astype('category')\n"
   ]
  },
  {
   "cell_type": "code",
   "execution_count": 8,
   "id": "f0c505ad",
   "metadata": {},
   "outputs": [
    {
     "name": "stdout",
     "output_type": "stream",
     "text": [
      "<class 'pandas.core.frame.DataFrame'>\n",
      "RangeIndex: 240 entries, 0 to 239\n",
      "Data columns (total 7 columns):\n",
      " #   Column                 Non-Null Count  Dtype   \n",
      "---  ------                 --------------  -----   \n",
      " 0   Unnamed: 0             240 non-null    int64   \n",
      " 1   temperature_k          240 non-null    int64   \n",
      " 2   luminosityr            240 non-null    float64 \n",
      " 3   radius                 240 non-null    float64 \n",
      " 4   absolute_magnitude_mv  240 non-null    float64 \n",
      " 5   star_type              240 non-null    category\n",
      " 6   star_color             240 non-null    object  \n",
      "dtypes: category(1), float64(3), int64(2), object(1)\n",
      "memory usage: 11.8+ KB\n"
     ]
    }
   ],
   "source": [
    "df.info()"
   ]
  },
  {
   "cell_type": "markdown",
   "id": "8044bd86",
   "metadata": {},
   "source": [
    "### Удаляем столбец Unnamed: 0 и проверяем еще раз на наличие полных дубликатов"
   ]
  },
  {
   "cell_type": "code",
   "execution_count": 9,
   "id": "4d2a8c05",
   "metadata": {},
   "outputs": [
    {
     "name": "stdout",
     "output_type": "stream",
     "text": [
      "Количество явных дубликатов: 0\n"
     ]
    },
    {
     "data": {
      "text/html": [
       "<div>\n",
       "<style scoped>\n",
       "    .dataframe tbody tr th:only-of-type {\n",
       "        vertical-align: middle;\n",
       "    }\n",
       "\n",
       "    .dataframe tbody tr th {\n",
       "        vertical-align: top;\n",
       "    }\n",
       "\n",
       "    .dataframe thead th {\n",
       "        text-align: right;\n",
       "    }\n",
       "</style>\n",
       "<table border=\"1\" class=\"dataframe\">\n",
       "  <thead>\n",
       "    <tr style=\"text-align: right;\">\n",
       "      <th></th>\n",
       "      <th>temperature_k</th>\n",
       "      <th>luminosityr</th>\n",
       "      <th>radius</th>\n",
       "      <th>absolute_magnitude_mv</th>\n",
       "      <th>star_type</th>\n",
       "      <th>star_color</th>\n",
       "    </tr>\n",
       "  </thead>\n",
       "  <tbody>\n",
       "    <tr>\n",
       "      <th>0</th>\n",
       "      <td>3068</td>\n",
       "      <td>0.002400</td>\n",
       "      <td>0.1700</td>\n",
       "      <td>16.12</td>\n",
       "      <td>0</td>\n",
       "      <td>Red</td>\n",
       "    </tr>\n",
       "    <tr>\n",
       "      <th>1</th>\n",
       "      <td>3042</td>\n",
       "      <td>0.000500</td>\n",
       "      <td>0.1542</td>\n",
       "      <td>16.60</td>\n",
       "      <td>0</td>\n",
       "      <td>Red</td>\n",
       "    </tr>\n",
       "    <tr>\n",
       "      <th>2</th>\n",
       "      <td>2600</td>\n",
       "      <td>0.000300</td>\n",
       "      <td>0.1020</td>\n",
       "      <td>18.70</td>\n",
       "      <td>0</td>\n",
       "      <td>Red</td>\n",
       "    </tr>\n",
       "    <tr>\n",
       "      <th>3</th>\n",
       "      <td>2800</td>\n",
       "      <td>0.000200</td>\n",
       "      <td>0.1600</td>\n",
       "      <td>16.65</td>\n",
       "      <td>0</td>\n",
       "      <td>Red</td>\n",
       "    </tr>\n",
       "    <tr>\n",
       "      <th>4</th>\n",
       "      <td>1939</td>\n",
       "      <td>0.000138</td>\n",
       "      <td>0.1030</td>\n",
       "      <td>20.06</td>\n",
       "      <td>0</td>\n",
       "      <td>Red</td>\n",
       "    </tr>\n",
       "  </tbody>\n",
       "</table>\n",
       "</div>"
      ],
      "text/plain": [
       "   temperature_k  luminosityr  radius  absolute_magnitude_mv star_type  \\\n",
       "0           3068     0.002400  0.1700                  16.12         0   \n",
       "1           3042     0.000500  0.1542                  16.60         0   \n",
       "2           2600     0.000300  0.1020                  18.70         0   \n",
       "3           2800     0.000200  0.1600                  16.65         0   \n",
       "4           1939     0.000138  0.1030                  20.06         0   \n",
       "\n",
       "  star_color  \n",
       "0        Red  \n",
       "1        Red  \n",
       "2        Red  \n",
       "3        Red  \n",
       "4        Red  "
      ]
     },
     "execution_count": 9,
     "metadata": {},
     "output_type": "execute_result"
    }
   ],
   "source": [
    "df = df.drop('Unnamed: 0', axis=1)\n",
    "print('Количество явных дубликатов:', df.duplicated().sum())\n",
    "df.head()"
   ]
  },
  {
   "cell_type": "markdown",
   "id": "c9121aca",
   "metadata": {},
   "source": [
    "**Итог:**  Изменили тип данных с столбце с типом звезд, убрали из названия столбцов пропуски, удалили столбец Unnamed: 0. "
   ]
  },
  {
   "cell_type": "markdown",
   "id": "15380426",
   "metadata": {},
   "source": [
    "## Предобработка и анализ данных"
   ]
  },
  {
   "cell_type": "markdown",
   "id": "560fafc9",
   "metadata": {},
   "source": [
    "### Сначала проанализируеми данные в столбцах с категориальными призначками (star_type,\tstar_color) и проверимь их на наличие неявных дубликатов."
   ]
  },
  {
   "cell_type": "markdown",
   "id": "dc98aa71",
   "metadata": {},
   "source": [
    "#### Рассмотри столбец star_type, построим столбчатую диаграмму - тип звезд - количество звезд."
   ]
  },
  {
   "cell_type": "code",
   "execution_count": 10,
   "id": "d418e899",
   "metadata": {},
   "outputs": [
    {
     "data": {
      "image/png": "[encoded data removed]",
      "text/plain": [
       "<Figure size 800x400 with 1 Axes>"
      ]
     },
     "metadata": {},
     "output_type": "display_data"
    }
   ],
   "source": [
    "df['star_type'].value_counts().plot.bar(figsize=(8, 4))\n",
    "plt.title('Количество звезд в каждом типе')\n",
    "plt.xlabel('Тип звезды')\n",
    "plt.ylabel('Количество');"
   ]
  },
  {
   "cell_type": "markdown",
   "id": "0385bfe9",
   "metadata": {},
   "source": [
    "**Вывод:**  Всего 6 типов звезд, в каждом типе звез представлено одиниковое количество звезд - 40."
   ]
  },
  {
   "cell_type": "markdown",
   "id": "4bc91ed6",
   "metadata": {},
   "source": [
    "#### Рассмотри столбец star_color. Сначала проверим наличие неявных дубликатов, посмотрев уникальные згначения в данном столбце, при необходимости избавимся от них. Построим столбчатую диаграмму - star_color. - количество звезд."
   ]
  },
  {
   "cell_type": "code",
   "execution_count": 11,
   "id": "2fc6988b",
   "metadata": {},
   "outputs": [
    {
     "data": {
      "text/plain": [
       "array(['Red', 'Blue White', 'White', 'Yellowish White', 'Blue white',\n",
       "       'Pale yellow orange', 'Blue', 'Blue-white', 'Whitish',\n",
       "       'yellow-white', 'Orange', 'White-Yellow', 'white', 'Blue ',\n",
       "       'yellowish', 'Yellowish', 'Orange-Red', 'Blue white ',\n",
       "       'Blue-White'], dtype=object)"
      ]
     },
     "execution_count": 11,
     "metadata": {},
     "output_type": "execute_result"
    }
   ],
   "source": [
    "df['star_color'].unique()"
   ]
  },
  {
   "cell_type": "code",
   "execution_count": 12,
   "id": "0378c99b",
   "metadata": {},
   "outputs": [
    {
     "data": {
      "text/plain": [
       "array(['red', 'blue-white', 'white', 'yellowish-white',\n",
       "       'pale-yellow-orange', 'blue', 'whitish', 'yellow-white', 'orange',\n",
       "       'yellowish', 'orange-red'], dtype=object)"
      ]
     },
     "execution_count": 12,
     "metadata": {},
     "output_type": "execute_result"
    }
   ],
   "source": [
    "df['star_color'] = df['star_color'].str.lower() # приводим к нижнему регистру\n",
    "df['star_color'] = df['star_color'].str.strip() # удаляем пробелы в начале и конце строки\n",
    "df['star_color'] = df['star_color'].str.replace(' ', '-') # заменяем пробелы между словами на -\n",
    "df['star_color'] = df['star_color'].str.replace('white-yellow', 'yellow-white')\n",
    "df['star_color'].unique()"
   ]
  },
  {
   "cell_type": "code",
   "execution_count": 13,
   "id": "72e9d224",
   "metadata": {},
   "outputs": [
    {
     "data": {
      "image/png": "[encoded data removed]",
      "text/plain": [
       "<Figure size 800x400 with 1 Axes>"
      ]
     },
     "metadata": {},
     "output_type": "display_data"
    }
   ],
   "source": [
    "df['star_color'].value_counts().plot.bar(figsize=(8, 4))\n",
    "plt.title('Количество звезд в каждом цвете')\n",
    "plt.xlabel('Цвет звезды')\n",
    "plt.ylabel('Количество');"
   ]
  },
  {
   "cell_type": "markdown",
   "id": "a6307951",
   "metadata": {},
   "source": [
    "**Вывод:**  Удалили неявные дубликаты, приведя все названия цветов к нижнему регистру, убрали лишние пробелы, заменили пробелы на - меджду словами. Из графика видно, что наибольшеее количество звезд красных, затем синих(голубых) и бело-голубых, нименьшее количество pale-yellow-orange и orange-red. Данные по этим звездам также оставим, т.к. данных для обучения мало и такие градации цвета есть и по ним также надо предсказывать температуру."
   ]
  },
  {
   "cell_type": "markdown",
   "id": "9aa8366d",
   "metadata": {},
   "source": [
    "### Рассмотрим более детально целевой признак temperature_K, т.к здесь наблюдаются выбросы справа (температура выше 33 000 К). Постороим коробчатую диаграмму и отберем звезды с температурой выше 33000 К"
   ]
  },
  {
   "cell_type": "code",
   "execution_count": 14,
   "id": "e0aff6b6",
   "metadata": {},
   "outputs": [
    {
     "data": {
      "image/png": "[encoded data removed]",
      "text/plain": [
       "<Figure size 600x500 with 1 Axes>"
      ]
     },
     "metadata": {},
     "output_type": "display_data"
    }
   ],
   "source": [
    "fig, ax = plt.subplots(figsize=(6, 5))\n",
    "sns.boxplot(data = df['temperature_k'], orient='h')\n",
    "plt.title('Коробчатая диаграмма по целевому признаку температура')\n",
    "plt.xlabel('Температура');"
   ]
  },
  {
   "cell_type": "code",
   "execution_count": 15,
   "id": "eb5fc400",
   "metadata": {},
   "outputs": [
    {
     "data": {
      "text/html": [
       "<div>\n",
       "<style scoped>\n",
       "    .dataframe tbody tr th:only-of-type {\n",
       "        vertical-align: middle;\n",
       "    }\n",
       "\n",
       "    .dataframe tbody tr th {\n",
       "        vertical-align: top;\n",
       "    }\n",
       "\n",
       "    .dataframe thead th {\n",
       "        text-align: right;\n",
       "    }\n",
       "</style>\n",
       "<table border=\"1\" class=\"dataframe\">\n",
       "  <thead>\n",
       "    <tr style=\"text-align: right;\">\n",
       "      <th></th>\n",
       "      <th>temperature_k</th>\n",
       "      <th>luminosityr</th>\n",
       "      <th>radius</th>\n",
       "      <th>absolute_magnitude_mv</th>\n",
       "      <th>star_type</th>\n",
       "      <th>star_color</th>\n",
       "    </tr>\n",
       "  </thead>\n",
       "  <tbody>\n",
       "    <tr>\n",
       "      <th>30</th>\n",
       "      <td>39000</td>\n",
       "      <td>204000.0</td>\n",
       "      <td>10.60</td>\n",
       "      <td>-4.70</td>\n",
       "      <td>3</td>\n",
       "      <td>blue</td>\n",
       "    </tr>\n",
       "    <tr>\n",
       "      <th>49</th>\n",
       "      <td>33750</td>\n",
       "      <td>220000.0</td>\n",
       "      <td>26.00</td>\n",
       "      <td>-6.10</td>\n",
       "      <td>4</td>\n",
       "      <td>blue</td>\n",
       "    </tr>\n",
       "    <tr>\n",
       "      <th>99</th>\n",
       "      <td>36108</td>\n",
       "      <td>198000.0</td>\n",
       "      <td>10.20</td>\n",
       "      <td>-4.40</td>\n",
       "      <td>3</td>\n",
       "      <td>blue</td>\n",
       "    </tr>\n",
       "    <tr>\n",
       "      <th>100</th>\n",
       "      <td>33300</td>\n",
       "      <td>240000.0</td>\n",
       "      <td>12.00</td>\n",
       "      <td>-6.50</td>\n",
       "      <td>4</td>\n",
       "      <td>blue</td>\n",
       "    </tr>\n",
       "    <tr>\n",
       "      <th>101</th>\n",
       "      <td>40000</td>\n",
       "      <td>813000.0</td>\n",
       "      <td>14.00</td>\n",
       "      <td>-6.23</td>\n",
       "      <td>4</td>\n",
       "      <td>blue</td>\n",
       "    </tr>\n",
       "    <tr>\n",
       "      <th>109</th>\n",
       "      <td>33421</td>\n",
       "      <td>352000.0</td>\n",
       "      <td>67.00</td>\n",
       "      <td>-5.79</td>\n",
       "      <td>4</td>\n",
       "      <td>blue</td>\n",
       "    </tr>\n",
       "    <tr>\n",
       "      <th>159</th>\n",
       "      <td>37800</td>\n",
       "      <td>202900.0</td>\n",
       "      <td>6.86</td>\n",
       "      <td>-4.56</td>\n",
       "      <td>3</td>\n",
       "      <td>blue</td>\n",
       "    </tr>\n",
       "    <tr>\n",
       "      <th>214</th>\n",
       "      <td>34190</td>\n",
       "      <td>198200.0</td>\n",
       "      <td>6.39</td>\n",
       "      <td>-4.57</td>\n",
       "      <td>3</td>\n",
       "      <td>blue</td>\n",
       "    </tr>\n",
       "    <tr>\n",
       "      <th>231</th>\n",
       "      <td>38234</td>\n",
       "      <td>272830.0</td>\n",
       "      <td>1356.00</td>\n",
       "      <td>-9.29</td>\n",
       "      <td>5</td>\n",
       "      <td>blue</td>\n",
       "    </tr>\n",
       "    <tr>\n",
       "      <th>235</th>\n",
       "      <td>38940</td>\n",
       "      <td>374830.0</td>\n",
       "      <td>1356.00</td>\n",
       "      <td>-9.93</td>\n",
       "      <td>5</td>\n",
       "      <td>blue</td>\n",
       "    </tr>\n",
       "    <tr>\n",
       "      <th>239</th>\n",
       "      <td>37882</td>\n",
       "      <td>294903.0</td>\n",
       "      <td>1783.00</td>\n",
       "      <td>-7.80</td>\n",
       "      <td>5</td>\n",
       "      <td>blue</td>\n",
       "    </tr>\n",
       "  </tbody>\n",
       "</table>\n",
       "</div>"
      ],
      "text/plain": [
       "     temperature_k  luminosityr   radius  absolute_magnitude_mv star_type  \\\n",
       "30           39000     204000.0    10.60                  -4.70         3   \n",
       "49           33750     220000.0    26.00                  -6.10         4   \n",
       "99           36108     198000.0    10.20                  -4.40         3   \n",
       "100          33300     240000.0    12.00                  -6.50         4   \n",
       "101          40000     813000.0    14.00                  -6.23         4   \n",
       "109          33421     352000.0    67.00                  -5.79         4   \n",
       "159          37800     202900.0     6.86                  -4.56         3   \n",
       "214          34190     198200.0     6.39                  -4.57         3   \n",
       "231          38234     272830.0  1356.00                  -9.29         5   \n",
       "235          38940     374830.0  1356.00                  -9.93         5   \n",
       "239          37882     294903.0  1783.00                  -7.80         5   \n",
       "\n",
       "    star_color  \n",
       "30        blue  \n",
       "49        blue  \n",
       "99        blue  \n",
       "100       blue  \n",
       "101       blue  \n",
       "109       blue  \n",
       "159       blue  \n",
       "214       blue  \n",
       "231       blue  \n",
       "235       blue  \n",
       "239       blue  "
      ]
     },
     "execution_count": 15,
     "metadata": {},
     "output_type": "execute_result"
    }
   ],
   "source": [
    "df.query('temperature_k > 33000')"
   ]
  },
  {
   "cell_type": "markdown",
   "id": "31bd2603",
   "metadata": {},
   "source": [
    "**Вывод:** Звезд, температура которых превышает 33000, 11. Все эти звезды относятся к синим. Синие звезды по классификации самые горячие звезды, поэтому ошибки в данных нет. Медианное значение температуры составляет - около 5776 К. "
   ]
  },
  {
   "cell_type": "markdown",
   "id": "bf066849",
   "metadata": {},
   "source": [
    "### Рассмотрим более детально целевой признак luminosityr, здесь также наблюдаются выбросы справа. Постороим коробчатую диаграмму и гистограмму."
   ]
  },
  {
   "cell_type": "code",
   "execution_count": 16,
   "id": "e69c5a26",
   "metadata": {},
   "outputs": [
    {
     "data": {
      "image/png": "[encoded data removed]",
      "text/plain": [
       "<Figure size 600x500 with 1 Axes>"
      ]
     },
     "metadata": {},
     "output_type": "display_data"
    }
   ],
   "source": [
    "fig, ax = plt.subplots(figsize=(6, 5))\n",
    "sns.boxplot(data = df['luminosityr'], orient='h')\n",
    "plt.title('Коробчатая диаграмма по признаку светимость звезды относительно Солнца')\n",
    "plt.xlabel('Светимость звезды относительно Солнца');"
   ]
  },
  {
   "cell_type": "code",
   "execution_count": 17,
   "id": "f209a1d0",
   "metadata": {},
   "outputs": [
    {
     "data": {
      "image/png": "[encoded data removed]",
      "text/plain": [
       "<Figure size 640x480 with 1 Axes>"
      ]
     },
     "metadata": {},
     "output_type": "display_data"
    }
   ],
   "source": [
    "df['luminosityr'].hist(bins= 50)\n",
    "plt.title('Гистограмма светимости звезд относительно Солнца')\n",
    "plt.xlabel('Светимости звезд относительно Солнца')\n",
    "plt.ylabel('Частота');"
   ]
  },
  {
   "cell_type": "code",
   "execution_count": 18,
   "id": "8d1b0709",
   "metadata": {},
   "outputs": [
    {
     "data": {
      "text/html": [
       "<div>\n",
       "<style scoped>\n",
       "    .dataframe tbody tr th:only-of-type {\n",
       "        vertical-align: middle;\n",
       "    }\n",
       "\n",
       "    .dataframe tbody tr th {\n",
       "        vertical-align: top;\n",
       "    }\n",
       "\n",
       "    .dataframe thead th {\n",
       "        text-align: right;\n",
       "    }\n",
       "</style>\n",
       "<table border=\"1\" class=\"dataframe\">\n",
       "  <thead>\n",
       "    <tr style=\"text-align: right;\">\n",
       "      <th></th>\n",
       "      <th>temperature_k</th>\n",
       "      <th>luminosityr</th>\n",
       "      <th>radius</th>\n",
       "      <th>absolute_magnitude_mv</th>\n",
       "      <th>star_type</th>\n",
       "      <th>star_color</th>\n",
       "    </tr>\n",
       "  </thead>\n",
       "  <tbody>\n",
       "    <tr>\n",
       "      <th>53</th>\n",
       "      <td>3749</td>\n",
       "      <td>550000.0</td>\n",
       "      <td>1648.0</td>\n",
       "      <td>-8.050</td>\n",
       "      <td>5</td>\n",
       "      <td>orange</td>\n",
       "    </tr>\n",
       "    <tr>\n",
       "      <th>101</th>\n",
       "      <td>40000</td>\n",
       "      <td>813000.0</td>\n",
       "      <td>14.0</td>\n",
       "      <td>-6.230</td>\n",
       "      <td>4</td>\n",
       "      <td>blue</td>\n",
       "    </tr>\n",
       "    <tr>\n",
       "      <th>162</th>\n",
       "      <td>12675</td>\n",
       "      <td>452000.0</td>\n",
       "      <td>83.0</td>\n",
       "      <td>-5.620</td>\n",
       "      <td>4</td>\n",
       "      <td>blue</td>\n",
       "    </tr>\n",
       "    <tr>\n",
       "      <th>172</th>\n",
       "      <td>4287</td>\n",
       "      <td>630000.0</td>\n",
       "      <td>1315.0</td>\n",
       "      <td>-9.200</td>\n",
       "      <td>5</td>\n",
       "      <td>orange</td>\n",
       "    </tr>\n",
       "    <tr>\n",
       "      <th>223</th>\n",
       "      <td>23440</td>\n",
       "      <td>537430.0</td>\n",
       "      <td>81.0</td>\n",
       "      <td>-5.975</td>\n",
       "      <td>4</td>\n",
       "      <td>blue</td>\n",
       "    </tr>\n",
       "    <tr>\n",
       "      <th>226</th>\n",
       "      <td>9892</td>\n",
       "      <td>593900.0</td>\n",
       "      <td>80.0</td>\n",
       "      <td>-7.262</td>\n",
       "      <td>4</td>\n",
       "      <td>blue</td>\n",
       "    </tr>\n",
       "    <tr>\n",
       "      <th>227</th>\n",
       "      <td>10930</td>\n",
       "      <td>783930.0</td>\n",
       "      <td>25.0</td>\n",
       "      <td>-6.224</td>\n",
       "      <td>4</td>\n",
       "      <td>blue</td>\n",
       "    </tr>\n",
       "    <tr>\n",
       "      <th>229</th>\n",
       "      <td>21738</td>\n",
       "      <td>748890.0</td>\n",
       "      <td>92.0</td>\n",
       "      <td>-7.346</td>\n",
       "      <td>4</td>\n",
       "      <td>blue</td>\n",
       "    </tr>\n",
       "    <tr>\n",
       "      <th>232</th>\n",
       "      <td>32489</td>\n",
       "      <td>648430.0</td>\n",
       "      <td>1948.5</td>\n",
       "      <td>-10.840</td>\n",
       "      <td>5</td>\n",
       "      <td>blue</td>\n",
       "    </tr>\n",
       "    <tr>\n",
       "      <th>233</th>\n",
       "      <td>27739</td>\n",
       "      <td>849420.0</td>\n",
       "      <td>1252.0</td>\n",
       "      <td>-7.590</td>\n",
       "      <td>5</td>\n",
       "      <td>blue-white</td>\n",
       "    </tr>\n",
       "    <tr>\n",
       "      <th>234</th>\n",
       "      <td>21904</td>\n",
       "      <td>748490.0</td>\n",
       "      <td>1130.0</td>\n",
       "      <td>-7.670</td>\n",
       "      <td>5</td>\n",
       "      <td>blue-white</td>\n",
       "    </tr>\n",
       "    <tr>\n",
       "      <th>236</th>\n",
       "      <td>30839</td>\n",
       "      <td>834042.0</td>\n",
       "      <td>1194.0</td>\n",
       "      <td>-10.630</td>\n",
       "      <td>5</td>\n",
       "      <td>blue</td>\n",
       "    </tr>\n",
       "    <tr>\n",
       "      <th>237</th>\n",
       "      <td>8829</td>\n",
       "      <td>537493.0</td>\n",
       "      <td>1423.0</td>\n",
       "      <td>-10.730</td>\n",
       "      <td>5</td>\n",
       "      <td>white</td>\n",
       "    </tr>\n",
       "  </tbody>\n",
       "</table>\n",
       "</div>"
      ],
      "text/plain": [
       "     temperature_k  luminosityr  radius  absolute_magnitude_mv star_type  \\\n",
       "53            3749     550000.0  1648.0                 -8.050         5   \n",
       "101          40000     813000.0    14.0                 -6.230         4   \n",
       "162          12675     452000.0    83.0                 -5.620         4   \n",
       "172           4287     630000.0  1315.0                 -9.200         5   \n",
       "223          23440     537430.0    81.0                 -5.975         4   \n",
       "226           9892     593900.0    80.0                 -7.262         4   \n",
       "227          10930     783930.0    25.0                 -6.224         4   \n",
       "229          21738     748890.0    92.0                 -7.346         4   \n",
       "232          32489     648430.0  1948.5                -10.840         5   \n",
       "233          27739     849420.0  1252.0                 -7.590         5   \n",
       "234          21904     748490.0  1130.0                 -7.670         5   \n",
       "236          30839     834042.0  1194.0                -10.630         5   \n",
       "237           8829     537493.0  1423.0                -10.730         5   \n",
       "\n",
       "     star_color  \n",
       "53       orange  \n",
       "101        blue  \n",
       "162        blue  \n",
       "172      orange  \n",
       "223        blue  \n",
       "226        blue  \n",
       "227        blue  \n",
       "229        blue  \n",
       "232        blue  \n",
       "233  blue-white  \n",
       "234  blue-white  \n",
       "236        blue  \n",
       "237       white  "
      ]
     },
     "execution_count": 18,
     "metadata": {},
     "output_type": "execute_result"
    }
   ],
   "source": [
    "df.query('luminosityr > 450000')"
   ]
  },
  {
   "cell_type": "markdown",
   "id": "e2483707",
   "metadata": {},
   "source": [
    "**Вывод:** Светимость большинства звезд в данных сопоставима со светимостью солнца, медианное значение составляет 0.070500. Наблюдается 'хвост' справа. Значений превышающее значение 450000 - 13, макисмальное - 849420 , оставим данные значения, т.к. такие значения светимости возможны. К тому же высокие значения светимости как раз характерны для звезд с отрицательной абсолютной звёздной величиной, характеризующей блеск звезды."
   ]
  },
  {
   "cell_type": "markdown",
   "id": "1a5d7802",
   "metadata": {},
   "source": [
    "### Рассмотрим признак radius, здесь также наблюдаются выбросы справа. Постороим коробчатую диаграмму и гистограмму."
   ]
  },
  {
   "cell_type": "code",
   "execution_count": 19,
   "id": "35fd8e75",
   "metadata": {},
   "outputs": [
    {
     "data": {
      "image/png": "[encoded data removed]",
      "text/plain": [
       "<Figure size 600x500 with 1 Axes>"
      ]
     },
     "metadata": {},
     "output_type": "display_data"
    }
   ],
   "source": [
    "fig, ax = plt.subplots(figsize=(6, 5))\n",
    "sns.boxplot(data = df['radius'], orient='h')\n",
    "plt.title('Коробчатая диаграмма по признаку радиус звезды относительно радиуса Солнца')\n",
    "plt.xlabel('Радиус звезды относительно радиуса Солнца');"
   ]
  },
  {
   "cell_type": "code",
   "execution_count": 20,
   "id": "84f29c02",
   "metadata": {},
   "outputs": [
    {
     "data": {
      "image/png": "[encoded data removed]",
      "text/plain": [
       "<Figure size 640x480 with 1 Axes>"
      ]
     },
     "metadata": {},
     "output_type": "display_data"
    }
   ],
   "source": [
    "df['radius'].hist(bins= 40)\n",
    "plt.title('Гистограмма радиуса звезды относительно радиуса Солнца')\n",
    "plt.xlabel('Радиус звезды относительно радиуса Солнца')\n",
    "plt.ylabel('Частота');"
   ]
  },
  {
   "cell_type": "code",
   "execution_count": 21,
   "id": "bbb7b00c",
   "metadata": {},
   "outputs": [
    {
     "data": {
      "text/html": [
       "<div>\n",
       "<style scoped>\n",
       "    .dataframe tbody tr th:only-of-type {\n",
       "        vertical-align: middle;\n",
       "    }\n",
       "\n",
       "    .dataframe tbody tr th {\n",
       "        vertical-align: top;\n",
       "    }\n",
       "\n",
       "    .dataframe thead th {\n",
       "        text-align: right;\n",
       "    }\n",
       "</style>\n",
       "<table border=\"1\" class=\"dataframe\">\n",
       "  <thead>\n",
       "    <tr style=\"text-align: right;\">\n",
       "      <th></th>\n",
       "      <th>temperature_k</th>\n",
       "      <th>luminosityr</th>\n",
       "      <th>radius</th>\n",
       "      <th>absolute_magnitude_mv</th>\n",
       "      <th>star_type</th>\n",
       "      <th>star_color</th>\n",
       "    </tr>\n",
       "  </thead>\n",
       "  <tbody>\n",
       "    <tr>\n",
       "      <th>50</th>\n",
       "      <td>3490</td>\n",
       "      <td>270000.0</td>\n",
       "      <td>1520.0</td>\n",
       "      <td>-9.40</td>\n",
       "      <td>5</td>\n",
       "      <td>red</td>\n",
       "    </tr>\n",
       "    <tr>\n",
       "      <th>51</th>\n",
       "      <td>3750</td>\n",
       "      <td>283000.0</td>\n",
       "      <td>1260.0</td>\n",
       "      <td>-7.63</td>\n",
       "      <td>5</td>\n",
       "      <td>red</td>\n",
       "    </tr>\n",
       "    <tr>\n",
       "      <th>52</th>\n",
       "      <td>3834</td>\n",
       "      <td>272000.0</td>\n",
       "      <td>1183.0</td>\n",
       "      <td>-9.20</td>\n",
       "      <td>5</td>\n",
       "      <td>red</td>\n",
       "    </tr>\n",
       "    <tr>\n",
       "      <th>53</th>\n",
       "      <td>3749</td>\n",
       "      <td>550000.0</td>\n",
       "      <td>1648.0</td>\n",
       "      <td>-8.05</td>\n",
       "      <td>5</td>\n",
       "      <td>orange</td>\n",
       "    </tr>\n",
       "    <tr>\n",
       "      <th>54</th>\n",
       "      <td>3650</td>\n",
       "      <td>310000.0</td>\n",
       "      <td>1324.0</td>\n",
       "      <td>-7.79</td>\n",
       "      <td>5</td>\n",
       "      <td>red</td>\n",
       "    </tr>\n",
       "    <tr>\n",
       "      <th>55</th>\n",
       "      <td>3450</td>\n",
       "      <td>263000.0</td>\n",
       "      <td>1349.0</td>\n",
       "      <td>-11.75</td>\n",
       "      <td>5</td>\n",
       "      <td>red</td>\n",
       "    </tr>\n",
       "    <tr>\n",
       "      <th>56</th>\n",
       "      <td>3660</td>\n",
       "      <td>363000.0</td>\n",
       "      <td>1673.0</td>\n",
       "      <td>-11.92</td>\n",
       "      <td>5</td>\n",
       "      <td>red</td>\n",
       "    </tr>\n",
       "    <tr>\n",
       "      <th>57</th>\n",
       "      <td>3450</td>\n",
       "      <td>174000.0</td>\n",
       "      <td>1284.0</td>\n",
       "      <td>-11.28</td>\n",
       "      <td>5</td>\n",
       "      <td>red</td>\n",
       "    </tr>\n",
       "    <tr>\n",
       "      <th>58</th>\n",
       "      <td>3752</td>\n",
       "      <td>209000.0</td>\n",
       "      <td>955.0</td>\n",
       "      <td>-11.24</td>\n",
       "      <td>5</td>\n",
       "      <td>red</td>\n",
       "    </tr>\n",
       "    <tr>\n",
       "      <th>59</th>\n",
       "      <td>3535</td>\n",
       "      <td>195000.0</td>\n",
       "      <td>1546.0</td>\n",
       "      <td>-11.36</td>\n",
       "      <td>5</td>\n",
       "      <td>red</td>\n",
       "    </tr>\n",
       "    <tr>\n",
       "      <th>110</th>\n",
       "      <td>3459</td>\n",
       "      <td>100000.0</td>\n",
       "      <td>1289.0</td>\n",
       "      <td>-10.70</td>\n",
       "      <td>5</td>\n",
       "      <td>red</td>\n",
       "    </tr>\n",
       "    <tr>\n",
       "      <th>111</th>\n",
       "      <td>3605</td>\n",
       "      <td>126000.0</td>\n",
       "      <td>1124.0</td>\n",
       "      <td>-10.81</td>\n",
       "      <td>5</td>\n",
       "      <td>red</td>\n",
       "    </tr>\n",
       "    <tr>\n",
       "      <th>112</th>\n",
       "      <td>3615</td>\n",
       "      <td>200000.0</td>\n",
       "      <td>1635.0</td>\n",
       "      <td>-11.33</td>\n",
       "      <td>5</td>\n",
       "      <td>red</td>\n",
       "    </tr>\n",
       "    <tr>\n",
       "      <th>113</th>\n",
       "      <td>3399</td>\n",
       "      <td>117000.0</td>\n",
       "      <td>1486.0</td>\n",
       "      <td>-10.92</td>\n",
       "      <td>5</td>\n",
       "      <td>red</td>\n",
       "    </tr>\n",
       "    <tr>\n",
       "      <th>114</th>\n",
       "      <td>3610</td>\n",
       "      <td>132000.0</td>\n",
       "      <td>1522.0</td>\n",
       "      <td>-10.86</td>\n",
       "      <td>5</td>\n",
       "      <td>red</td>\n",
       "    </tr>\n",
       "    <tr>\n",
       "      <th>115</th>\n",
       "      <td>3553</td>\n",
       "      <td>145000.0</td>\n",
       "      <td>1324.0</td>\n",
       "      <td>-11.03</td>\n",
       "      <td>5</td>\n",
       "      <td>red</td>\n",
       "    </tr>\n",
       "    <tr>\n",
       "      <th>116</th>\n",
       "      <td>4015</td>\n",
       "      <td>282000.0</td>\n",
       "      <td>1534.0</td>\n",
       "      <td>-11.39</td>\n",
       "      <td>5</td>\n",
       "      <td>red</td>\n",
       "    </tr>\n",
       "    <tr>\n",
       "      <th>117</th>\n",
       "      <td>3625</td>\n",
       "      <td>74000.0</td>\n",
       "      <td>876.0</td>\n",
       "      <td>-10.25</td>\n",
       "      <td>5</td>\n",
       "      <td>red</td>\n",
       "    </tr>\n",
       "    <tr>\n",
       "      <th>118</th>\n",
       "      <td>6850</td>\n",
       "      <td>229000.0</td>\n",
       "      <td>1467.0</td>\n",
       "      <td>-10.07</td>\n",
       "      <td>5</td>\n",
       "      <td>red</td>\n",
       "    </tr>\n",
       "    <tr>\n",
       "      <th>119</th>\n",
       "      <td>3780</td>\n",
       "      <td>200000.0</td>\n",
       "      <td>1324.0</td>\n",
       "      <td>-10.70</td>\n",
       "      <td>5</td>\n",
       "      <td>red</td>\n",
       "    </tr>\n",
       "    <tr>\n",
       "      <th>170</th>\n",
       "      <td>3570</td>\n",
       "      <td>320000.0</td>\n",
       "      <td>1480.0</td>\n",
       "      <td>-7.58</td>\n",
       "      <td>5</td>\n",
       "      <td>red</td>\n",
       "    </tr>\n",
       "    <tr>\n",
       "      <th>171</th>\n",
       "      <td>3500</td>\n",
       "      <td>138000.0</td>\n",
       "      <td>1420.0</td>\n",
       "      <td>-8.18</td>\n",
       "      <td>5</td>\n",
       "      <td>red</td>\n",
       "    </tr>\n",
       "    <tr>\n",
       "      <th>172</th>\n",
       "      <td>4287</td>\n",
       "      <td>630000.0</td>\n",
       "      <td>1315.0</td>\n",
       "      <td>-9.20</td>\n",
       "      <td>5</td>\n",
       "      <td>orange</td>\n",
       "    </tr>\n",
       "    <tr>\n",
       "      <th>173</th>\n",
       "      <td>26000</td>\n",
       "      <td>316000.0</td>\n",
       "      <td>1679.0</td>\n",
       "      <td>-9.10</td>\n",
       "      <td>5</td>\n",
       "      <td>blue</td>\n",
       "    </tr>\n",
       "    <tr>\n",
       "      <th>174</th>\n",
       "      <td>3600</td>\n",
       "      <td>240000.0</td>\n",
       "      <td>1190.0</td>\n",
       "      <td>-7.89</td>\n",
       "      <td>5</td>\n",
       "      <td>red</td>\n",
       "    </tr>\n",
       "    <tr>\n",
       "      <th>175</th>\n",
       "      <td>3614</td>\n",
       "      <td>145000.0</td>\n",
       "      <td>1553.0</td>\n",
       "      <td>-7.71</td>\n",
       "      <td>5</td>\n",
       "      <td>red</td>\n",
       "    </tr>\n",
       "    <tr>\n",
       "      <th>176</th>\n",
       "      <td>18000</td>\n",
       "      <td>200000.0</td>\n",
       "      <td>1045.0</td>\n",
       "      <td>-8.30</td>\n",
       "      <td>5</td>\n",
       "      <td>blue</td>\n",
       "    </tr>\n",
       "    <tr>\n",
       "      <th>177</th>\n",
       "      <td>11000</td>\n",
       "      <td>170000.0</td>\n",
       "      <td>1779.0</td>\n",
       "      <td>-9.90</td>\n",
       "      <td>5</td>\n",
       "      <td>blue-white</td>\n",
       "    </tr>\n",
       "    <tr>\n",
       "      <th>178</th>\n",
       "      <td>12100</td>\n",
       "      <td>120000.0</td>\n",
       "      <td>708.9</td>\n",
       "      <td>-7.84</td>\n",
       "      <td>5</td>\n",
       "      <td>blue-white</td>\n",
       "    </tr>\n",
       "    <tr>\n",
       "      <th>179</th>\n",
       "      <td>24490</td>\n",
       "      <td>248490.0</td>\n",
       "      <td>1134.5</td>\n",
       "      <td>-8.24</td>\n",
       "      <td>5</td>\n",
       "      <td>blue-white</td>\n",
       "    </tr>\n",
       "    <tr>\n",
       "      <th>230</th>\n",
       "      <td>24145</td>\n",
       "      <td>382993.0</td>\n",
       "      <td>1494.0</td>\n",
       "      <td>-8.84</td>\n",
       "      <td>5</td>\n",
       "      <td>blue-white</td>\n",
       "    </tr>\n",
       "    <tr>\n",
       "      <th>231</th>\n",
       "      <td>38234</td>\n",
       "      <td>272830.0</td>\n",
       "      <td>1356.0</td>\n",
       "      <td>-9.29</td>\n",
       "      <td>5</td>\n",
       "      <td>blue</td>\n",
       "    </tr>\n",
       "    <tr>\n",
       "      <th>232</th>\n",
       "      <td>32489</td>\n",
       "      <td>648430.0</td>\n",
       "      <td>1948.5</td>\n",
       "      <td>-10.84</td>\n",
       "      <td>5</td>\n",
       "      <td>blue</td>\n",
       "    </tr>\n",
       "    <tr>\n",
       "      <th>233</th>\n",
       "      <td>27739</td>\n",
       "      <td>849420.0</td>\n",
       "      <td>1252.0</td>\n",
       "      <td>-7.59</td>\n",
       "      <td>5</td>\n",
       "      <td>blue-white</td>\n",
       "    </tr>\n",
       "    <tr>\n",
       "      <th>234</th>\n",
       "      <td>21904</td>\n",
       "      <td>748490.0</td>\n",
       "      <td>1130.0</td>\n",
       "      <td>-7.67</td>\n",
       "      <td>5</td>\n",
       "      <td>blue-white</td>\n",
       "    </tr>\n",
       "    <tr>\n",
       "      <th>235</th>\n",
       "      <td>38940</td>\n",
       "      <td>374830.0</td>\n",
       "      <td>1356.0</td>\n",
       "      <td>-9.93</td>\n",
       "      <td>5</td>\n",
       "      <td>blue</td>\n",
       "    </tr>\n",
       "    <tr>\n",
       "      <th>236</th>\n",
       "      <td>30839</td>\n",
       "      <td>834042.0</td>\n",
       "      <td>1194.0</td>\n",
       "      <td>-10.63</td>\n",
       "      <td>5</td>\n",
       "      <td>blue</td>\n",
       "    </tr>\n",
       "    <tr>\n",
       "      <th>237</th>\n",
       "      <td>8829</td>\n",
       "      <td>537493.0</td>\n",
       "      <td>1423.0</td>\n",
       "      <td>-10.73</td>\n",
       "      <td>5</td>\n",
       "      <td>white</td>\n",
       "    </tr>\n",
       "    <tr>\n",
       "      <th>238</th>\n",
       "      <td>9235</td>\n",
       "      <td>404940.0</td>\n",
       "      <td>1112.0</td>\n",
       "      <td>-11.23</td>\n",
       "      <td>5</td>\n",
       "      <td>white</td>\n",
       "    </tr>\n",
       "    <tr>\n",
       "      <th>239</th>\n",
       "      <td>37882</td>\n",
       "      <td>294903.0</td>\n",
       "      <td>1783.0</td>\n",
       "      <td>-7.80</td>\n",
       "      <td>5</td>\n",
       "      <td>blue</td>\n",
       "    </tr>\n",
       "  </tbody>\n",
       "</table>\n",
       "</div>"
      ],
      "text/plain": [
       "     temperature_k  luminosityr  radius  absolute_magnitude_mv star_type  \\\n",
       "50            3490     270000.0  1520.0                  -9.40         5   \n",
       "51            3750     283000.0  1260.0                  -7.63         5   \n",
       "52            3834     272000.0  1183.0                  -9.20         5   \n",
       "53            3749     550000.0  1648.0                  -8.05         5   \n",
       "54            3650     310000.0  1324.0                  -7.79         5   \n",
       "55            3450     263000.0  1349.0                 -11.75         5   \n",
       "56            3660     363000.0  1673.0                 -11.92         5   \n",
       "57            3450     174000.0  1284.0                 -11.28         5   \n",
       "58            3752     209000.0   955.0                 -11.24         5   \n",
       "59            3535     195000.0  1546.0                 -11.36         5   \n",
       "110           3459     100000.0  1289.0                 -10.70         5   \n",
       "111           3605     126000.0  1124.0                 -10.81         5   \n",
       "112           3615     200000.0  1635.0                 -11.33         5   \n",
       "113           3399     117000.0  1486.0                 -10.92         5   \n",
       "114           3610     132000.0  1522.0                 -10.86         5   \n",
       "115           3553     145000.0  1324.0                 -11.03         5   \n",
       "116           4015     282000.0  1534.0                 -11.39         5   \n",
       "117           3625      74000.0   876.0                 -10.25         5   \n",
       "118           6850     229000.0  1467.0                 -10.07         5   \n",
       "119           3780     200000.0  1324.0                 -10.70         5   \n",
       "170           3570     320000.0  1480.0                  -7.58         5   \n",
       "171           3500     138000.0  1420.0                  -8.18         5   \n",
       "172           4287     630000.0  1315.0                  -9.20         5   \n",
       "173          26000     316000.0  1679.0                  -9.10         5   \n",
       "174           3600     240000.0  1190.0                  -7.89         5   \n",
       "175           3614     145000.0  1553.0                  -7.71         5   \n",
       "176          18000     200000.0  1045.0                  -8.30         5   \n",
       "177          11000     170000.0  1779.0                  -9.90         5   \n",
       "178          12100     120000.0   708.9                  -7.84         5   \n",
       "179          24490     248490.0  1134.5                  -8.24         5   \n",
       "230          24145     382993.0  1494.0                  -8.84         5   \n",
       "231          38234     272830.0  1356.0                  -9.29         5   \n",
       "232          32489     648430.0  1948.5                 -10.84         5   \n",
       "233          27739     849420.0  1252.0                  -7.59         5   \n",
       "234          21904     748490.0  1130.0                  -7.67         5   \n",
       "235          38940     374830.0  1356.0                  -9.93         5   \n",
       "236          30839     834042.0  1194.0                 -10.63         5   \n",
       "237           8829     537493.0  1423.0                 -10.73         5   \n",
       "238           9235     404940.0  1112.0                 -11.23         5   \n",
       "239          37882     294903.0  1783.0                  -7.80         5   \n",
       "\n",
       "     star_color  \n",
       "50          red  \n",
       "51          red  \n",
       "52          red  \n",
       "53       orange  \n",
       "54          red  \n",
       "55          red  \n",
       "56          red  \n",
       "57          red  \n",
       "58          red  \n",
       "59          red  \n",
       "110         red  \n",
       "111         red  \n",
       "112         red  \n",
       "113         red  \n",
       "114         red  \n",
       "115         red  \n",
       "116         red  \n",
       "117         red  \n",
       "118         red  \n",
       "119         red  \n",
       "170         red  \n",
       "171         red  \n",
       "172      orange  \n",
       "173        blue  \n",
       "174         red  \n",
       "175         red  \n",
       "176        blue  \n",
       "177  blue-white  \n",
       "178  blue-white  \n",
       "179  blue-white  \n",
       "230  blue-white  \n",
       "231        blue  \n",
       "232        blue  \n",
       "233  blue-white  \n",
       "234  blue-white  \n",
       "235        blue  \n",
       "236        blue  \n",
       "237       white  \n",
       "238       white  \n",
       "239        blue  "
      ]
     },
     "execution_count": 21,
     "metadata": {},
     "output_type": "execute_result"
    }
   ],
   "source": [
    "df.query('radius > 500')"
   ]
  },
  {
   "cell_type": "markdown",
   "id": "0d4b9380",
   "metadata": {},
   "source": [
    "**Вывод:** Радиус большинства звезд в данных сопоставима с радиусом солнца, медианное значение составляет 0.762500. Наблюдается 'хвост' справа в диапазоне от 600 до 1948.5. Оставим данные значения, т.к. такие значения радиусов возможны. К тому же больше размеры звезд характерны как раз для красных и синих планет, которых большинство в данном списке."
   ]
  },
  {
   "cell_type": "markdown",
   "id": "d6ef3ece",
   "metadata": {},
   "source": [
    "**Выводы по этапу \"Предобработка и исследовательский анализ данных\".** На данном этапе были более подробно рассмотрены следующие признаки:\n",
    "\n",
    "**star_type** - Категриальный признак. В данном признаке 6 типов звезд, по 40 звезд в каждой категории.\n",
    "\n",
    "**star_сolor** -  Удалили неявные дубликаты, сократив количество уникальных значений в данном столбце с 19 до 11. Данный признак относится к категориальным. Наибольшее количество звезд в датасете относится к категории красных, затем следуют синие(голубые) и бело-голубые. Наименьшее количество звезд относится к категориям pale-yellow-orange и orange-red. Несмотря на то, что данных в этих категориях мало, оставляем их, т.к. в целом данных для обучения немного, такие градации цвета есть, и по ним также надо предсказывать температуру.\n",
    "\n",
    "**temperature_k** - Целевой признак. Данные, в том числе попадающие в зону выбрасов, выглядят правдоподобно, поэтому все данные были оставлены.\n",
    "\n",
    "**luminosityr, radius** - Количественные признаки. Данные, в том числе попадающие в зону выбрасов, выглядят правдоподобно, поэтому все данные были оставлены.\n",
    "        "
   ]
  },
  {
   "cell_type": "markdown",
   "id": "79cec642",
   "metadata": {},
   "source": [
    "## Подготовка данных к построению модели"
   ]
  },
  {
   "cell_type": "markdown",
   "id": "18bf7b0d",
   "metadata": {},
   "source": [
    "### Подготовим выборки для обучения моделей. Разобьем их на обучающую и тестовую в соотношении 70 - 30. Целевой признак - temperature_K, удаляем его из признаков."
   ]
  },
  {
   "cell_type": "code",
   "execution_count": 22,
   "id": "ee8ca005",
   "metadata": {},
   "outputs": [
    {
     "data": {
      "text/plain": [
       "temperature_k               int64\n",
       "luminosityr               float64\n",
       "radius                    float64\n",
       "absolute_magnitude_mv     float64\n",
       "star_type                category\n",
       "star_color               category\n",
       "dtype: object"
      ]
     },
     "execution_count": 22,
     "metadata": {},
     "output_type": "execute_result"
    }
   ],
   "source": [
    "df['star_color'] = df['star_color'].astype('category')\n",
    "df['star_type'] = df['star_type'].astype('category')\n",
    "df.dtypes"
   ]
  },
  {
   "cell_type": "code",
   "execution_count": 23,
   "id": "6b31e6ce",
   "metadata": {},
   "outputs": [
    {
     "name": "stdout",
     "output_type": "stream",
     "text": [
      "(180, 5)\n",
      "(60, 5)\n",
      "(180,)\n"
     ]
    },
    {
     "data": {
      "text/plain": [
       "(60,)"
      ]
     },
     "execution_count": 23,
     "metadata": {},
     "output_type": "execute_result"
    }
   ],
   "source": [
    "x_train, x_test, y_train, y_test = train_test_split(df.drop('temperature_k', axis =1), \n",
    "          df.temperature_k, test_size=0.25, random_state=RANDOM_STATE, shuffle=True)\n",
    "print(x_train.shape)\n",
    "print(x_test.shape)\n",
    "print(y_train.shape)\n",
    "y_test.shape"
   ]
  },
  {
   "cell_type": "markdown",
   "id": "0aa8b14e",
   "metadata": {},
   "source": [
    "### Определим категориальные и количественные признаки"
   ]
  },
  {
   "cell_type": "code",
   "execution_count": 24,
   "id": "4b11407f",
   "metadata": {},
   "outputs": [
    {
     "name": "stdout",
     "output_type": "stream",
     "text": [
      "Index(['star_type', 'star_color'], dtype='object')\n"
     ]
    },
    {
     "data": {
      "text/plain": [
       "Index(['luminosityr', 'radius', 'absolute_magnitude_mv'], dtype='object')"
      ]
     },
     "execution_count": 24,
     "metadata": {},
     "output_type": "execute_result"
    }
   ],
   "source": [
    "cat_columns = x_train.select_dtypes(include='category').columns\n",
    "num_columns = x_train.select_dtypes(include='number').columns\n",
    "print(cat_columns)\n",
    "num_columns"
   ]
  },
  {
   "cell_type": "markdown",
   "id": "25b9e0fb",
   "metadata": {},
   "source": [
    "### Проведем масштабирование количественных и кодирование категориальных данных. Для масштабирования будем использовать StandardScaler, а для кодирования OneHotEncoder."
   ]
  },
  {
   "cell_type": "code",
   "execution_count": 25,
   "id": "c29a7cef",
   "metadata": {},
   "outputs": [
    {
     "data": {
      "text/html": [
       "<div>\n",
       "<style scoped>\n",
       "    .dataframe tbody tr th:only-of-type {\n",
       "        vertical-align: middle;\n",
       "    }\n",
       "\n",
       "    .dataframe tbody tr th {\n",
       "        vertical-align: top;\n",
       "    }\n",
       "\n",
       "    .dataframe thead th {\n",
       "        text-align: right;\n",
       "    }\n",
       "</style>\n",
       "<table border=\"1\" class=\"dataframe\">\n",
       "  <thead>\n",
       "    <tr style=\"text-align: right;\">\n",
       "      <th></th>\n",
       "      <th>luminosityr</th>\n",
       "      <th>radius</th>\n",
       "      <th>absolute_magnitude_mv</th>\n",
       "      <th>star_type</th>\n",
       "      <th>star_color</th>\n",
       "    </tr>\n",
       "  </thead>\n",
       "  <tbody>\n",
       "    <tr>\n",
       "      <th>220</th>\n",
       "      <td>0.812048</td>\n",
       "      <td>-0.373761</td>\n",
       "      <td>-1.000429</td>\n",
       "      <td>4</td>\n",
       "      <td>blue</td>\n",
       "    </tr>\n",
       "    <tr>\n",
       "      <th>151</th>\n",
       "      <td>-0.601327</td>\n",
       "      <td>-0.436646</td>\n",
       "      <td>-0.391306</td>\n",
       "      <td>3</td>\n",
       "      <td>blue-white</td>\n",
       "    </tr>\n",
       "    <tr>\n",
       "      <th>29</th>\n",
       "      <td>-0.601546</td>\n",
       "      <td>-0.441431</td>\n",
       "      <td>0.939423</td>\n",
       "      <td>2</td>\n",
       "      <td>pale-yellow-orange</td>\n",
       "    </tr>\n",
       "    <tr>\n",
       "      <th>207</th>\n",
       "      <td>-0.601546</td>\n",
       "      <td>-0.441436</td>\n",
       "      <td>0.567657</td>\n",
       "      <td>2</td>\n",
       "      <td>blue</td>\n",
       "    </tr>\n",
       "    <tr>\n",
       "      <th>94</th>\n",
       "      <td>-0.601286</td>\n",
       "      <td>-0.436369</td>\n",
       "      <td>-0.264525</td>\n",
       "      <td>3</td>\n",
       "      <td>blue-white</td>\n",
       "    </tr>\n",
       "  </tbody>\n",
       "</table>\n",
       "</div>"
      ],
      "text/plain": [
       "     luminosityr    radius  absolute_magnitude_mv star_type  \\\n",
       "220     0.812048 -0.373761              -1.000429         4   \n",
       "151    -0.601327 -0.436646              -0.391306         3   \n",
       "29     -0.601546 -0.441431               0.939423         2   \n",
       "207    -0.601546 -0.441436               0.567657         2   \n",
       "94     -0.601286 -0.436369              -0.264525         3   \n",
       "\n",
       "             star_color  \n",
       "220                blue  \n",
       "151          blue-white  \n",
       "29   pale-yellow-orange  \n",
       "207                blue  \n",
       "94           blue-white  "
      ]
     },
     "metadata": {},
     "output_type": "display_data"
    },
    {
     "data": {
      "text/html": [
       "<div>\n",
       "<style scoped>\n",
       "    .dataframe tbody tr th:only-of-type {\n",
       "        vertical-align: middle;\n",
       "    }\n",
       "\n",
       "    .dataframe tbody tr th {\n",
       "        vertical-align: top;\n",
       "    }\n",
       "\n",
       "    .dataframe thead th {\n",
       "        text-align: right;\n",
       "    }\n",
       "</style>\n",
       "<table border=\"1\" class=\"dataframe\">\n",
       "  <thead>\n",
       "    <tr style=\"text-align: right;\">\n",
       "      <th></th>\n",
       "      <th>luminosityr</th>\n",
       "      <th>radius</th>\n",
       "      <th>absolute_magnitude_mv</th>\n",
       "      <th>star_type</th>\n",
       "      <th>star_color</th>\n",
       "    </tr>\n",
       "  </thead>\n",
       "  <tbody>\n",
       "    <tr>\n",
       "      <th>63</th>\n",
       "      <td>-0.601546</td>\n",
       "      <td>-0.441278</td>\n",
       "      <td>1.213957</td>\n",
       "      <td>0</td>\n",
       "      <td>red</td>\n",
       "    </tr>\n",
       "    <tr>\n",
       "      <th>86</th>\n",
       "      <td>-0.601546</td>\n",
       "      <td>-0.441438</td>\n",
       "      <td>0.753540</td>\n",
       "      <td>2</td>\n",
       "      <td>blue-white</td>\n",
       "    </tr>\n",
       "    <tr>\n",
       "      <th>111</th>\n",
       "      <td>0.127558</td>\n",
       "      <td>1.732521</td>\n",
       "      <td>-1.433202</td>\n",
       "      <td>5</td>\n",
       "      <td>red</td>\n",
       "    </tr>\n",
       "    <tr>\n",
       "      <th>87</th>\n",
       "      <td>-0.601546</td>\n",
       "      <td>-0.441439</td>\n",
       "      <td>0.663935</td>\n",
       "      <td>2</td>\n",
       "      <td>blue-white</td>\n",
       "    </tr>\n",
       "    <tr>\n",
       "      <th>235</th>\n",
       "      <td>1.567423</td>\n",
       "      <td>2.181242</td>\n",
       "      <td>-1.349316</td>\n",
       "      <td>5</td>\n",
       "      <td>blue</td>\n",
       "    </tr>\n",
       "  </tbody>\n",
       "</table>\n",
       "</div>"
      ],
      "text/plain": [
       "     luminosityr    radius  absolute_magnitude_mv star_type  star_color\n",
       "63     -0.601546 -0.441278               1.213957         0         red\n",
       "86     -0.601546 -0.441438               0.753540         2  blue-white\n",
       "111     0.127558  1.732521              -1.433202         5         red\n",
       "87     -0.601546 -0.441439               0.663935         2  blue-white\n",
       "235     1.567423  2.181242              -1.349316         5        blue"
      ]
     },
     "execution_count": 25,
     "metadata": {},
     "output_type": "execute_result"
    }
   ],
   "source": [
    "scaler = StandardScaler()\n",
    "x_train[num_columns] = scaler.fit_transform(x_train[num_columns])\n",
    "x_test[num_columns] = scaler.transform(x_test[num_columns])\n",
    "display(x_train.head())\n",
    "x_test.head()"
   ]
  },
  {
   "cell_type": "code",
   "execution_count": 26,
   "id": "34fd0945",
   "metadata": {},
   "outputs": [],
   "source": [
    "encoder_ohe = OneHotEncoder(drop='first', handle_unknown='ignore', sparse=False)\n",
    "encoder_ohe.fit(x_train[cat_columns])\n",
    "x_train[encoder_ohe.get_feature_names_out()] = encoder_ohe.transform(x_train[cat_columns])\n",
    "x_train = x_train.drop(cat_columns, axis=1)\n",
    "x_test[encoder_ohe.get_feature_names_out()] = encoder_ohe.transform(x_test[cat_columns])\n",
    "x_test = x_test.drop(cat_columns, axis=1)"
   ]
  },
  {
   "cell_type": "code",
   "execution_count": 27,
   "id": "1bb2b396",
   "metadata": {},
   "outputs": [
    {
     "data": {
      "text/html": [
       "<div>\n",
       "<style scoped>\n",
       "    .dataframe tbody tr th:only-of-type {\n",
       "        vertical-align: middle;\n",
       "    }\n",
       "\n",
       "    .dataframe tbody tr th {\n",
       "        vertical-align: top;\n",
       "    }\n",
       "\n",
       "    .dataframe thead th {\n",
       "        text-align: right;\n",
       "    }\n",
       "</style>\n",
       "<table border=\"1\" class=\"dataframe\">\n",
       "  <thead>\n",
       "    <tr style=\"text-align: right;\">\n",
       "      <th></th>\n",
       "      <th>luminosityr</th>\n",
       "      <th>radius</th>\n",
       "      <th>absolute_magnitude_mv</th>\n",
       "      <th>star_type_1</th>\n",
       "      <th>star_type_2</th>\n",
       "      <th>star_type_3</th>\n",
       "      <th>star_type_4</th>\n",
       "      <th>star_type_5</th>\n",
       "      <th>star_color_blue-white</th>\n",
       "      <th>star_color_orange</th>\n",
       "      <th>star_color_orange-red</th>\n",
       "      <th>star_color_pale-yellow-orange</th>\n",
       "      <th>star_color_red</th>\n",
       "      <th>star_color_white</th>\n",
       "      <th>star_color_whitish</th>\n",
       "      <th>star_color_yellow-white</th>\n",
       "      <th>star_color_yellowish</th>\n",
       "      <th>star_color_yellowish-white</th>\n",
       "    </tr>\n",
       "  </thead>\n",
       "  <tbody>\n",
       "    <tr>\n",
       "      <th>220</th>\n",
       "      <td>0.812048</td>\n",
       "      <td>-0.373761</td>\n",
       "      <td>-1.000429</td>\n",
       "      <td>0.0</td>\n",
       "      <td>0.0</td>\n",
       "      <td>0.0</td>\n",
       "      <td>1.0</td>\n",
       "      <td>0.0</td>\n",
       "      <td>0.0</td>\n",
       "      <td>0.0</td>\n",
       "      <td>0.0</td>\n",
       "      <td>0.0</td>\n",
       "      <td>0.0</td>\n",
       "      <td>0.0</td>\n",
       "      <td>0.0</td>\n",
       "      <td>0.0</td>\n",
       "      <td>0.0</td>\n",
       "      <td>0.0</td>\n",
       "    </tr>\n",
       "    <tr>\n",
       "      <th>151</th>\n",
       "      <td>-0.601327</td>\n",
       "      <td>-0.436646</td>\n",
       "      <td>-0.391306</td>\n",
       "      <td>0.0</td>\n",
       "      <td>0.0</td>\n",
       "      <td>1.0</td>\n",
       "      <td>0.0</td>\n",
       "      <td>0.0</td>\n",
       "      <td>1.0</td>\n",
       "      <td>0.0</td>\n",
       "      <td>0.0</td>\n",
       "      <td>0.0</td>\n",
       "      <td>0.0</td>\n",
       "      <td>0.0</td>\n",
       "      <td>0.0</td>\n",
       "      <td>0.0</td>\n",
       "      <td>0.0</td>\n",
       "      <td>0.0</td>\n",
       "    </tr>\n",
       "    <tr>\n",
       "      <th>29</th>\n",
       "      <td>-0.601546</td>\n",
       "      <td>-0.441431</td>\n",
       "      <td>0.939423</td>\n",
       "      <td>0.0</td>\n",
       "      <td>1.0</td>\n",
       "      <td>0.0</td>\n",
       "      <td>0.0</td>\n",
       "      <td>0.0</td>\n",
       "      <td>0.0</td>\n",
       "      <td>0.0</td>\n",
       "      <td>0.0</td>\n",
       "      <td>1.0</td>\n",
       "      <td>0.0</td>\n",
       "      <td>0.0</td>\n",
       "      <td>0.0</td>\n",
       "      <td>0.0</td>\n",
       "      <td>0.0</td>\n",
       "      <td>0.0</td>\n",
       "    </tr>\n",
       "    <tr>\n",
       "      <th>207</th>\n",
       "      <td>-0.601546</td>\n",
       "      <td>-0.441436</td>\n",
       "      <td>0.567657</td>\n",
       "      <td>0.0</td>\n",
       "      <td>1.0</td>\n",
       "      <td>0.0</td>\n",
       "      <td>0.0</td>\n",
       "      <td>0.0</td>\n",
       "      <td>0.0</td>\n",
       "      <td>0.0</td>\n",
       "      <td>0.0</td>\n",
       "      <td>0.0</td>\n",
       "      <td>0.0</td>\n",
       "      <td>0.0</td>\n",
       "      <td>0.0</td>\n",
       "      <td>0.0</td>\n",
       "      <td>0.0</td>\n",
       "      <td>0.0</td>\n",
       "    </tr>\n",
       "    <tr>\n",
       "      <th>94</th>\n",
       "      <td>-0.601286</td>\n",
       "      <td>-0.436369</td>\n",
       "      <td>-0.264525</td>\n",
       "      <td>0.0</td>\n",
       "      <td>0.0</td>\n",
       "      <td>1.0</td>\n",
       "      <td>0.0</td>\n",
       "      <td>0.0</td>\n",
       "      <td>1.0</td>\n",
       "      <td>0.0</td>\n",
       "      <td>0.0</td>\n",
       "      <td>0.0</td>\n",
       "      <td>0.0</td>\n",
       "      <td>0.0</td>\n",
       "      <td>0.0</td>\n",
       "      <td>0.0</td>\n",
       "      <td>0.0</td>\n",
       "      <td>0.0</td>\n",
       "    </tr>\n",
       "  </tbody>\n",
       "</table>\n",
       "</div>"
      ],
      "text/plain": [
       "     luminosityr    radius  absolute_magnitude_mv  star_type_1  star_type_2  \\\n",
       "220     0.812048 -0.373761              -1.000429          0.0          0.0   \n",
       "151    -0.601327 -0.436646              -0.391306          0.0          0.0   \n",
       "29     -0.601546 -0.441431               0.939423          0.0          1.0   \n",
       "207    -0.601546 -0.441436               0.567657          0.0          1.0   \n",
       "94     -0.601286 -0.436369              -0.264525          0.0          0.0   \n",
       "\n",
       "     star_type_3  star_type_4  star_type_5  star_color_blue-white  \\\n",
       "220          0.0          1.0          0.0                    0.0   \n",
       "151          1.0          0.0          0.0                    1.0   \n",
       "29           0.0          0.0          0.0                    0.0   \n",
       "207          0.0          0.0          0.0                    0.0   \n",
       "94           1.0          0.0          0.0                    1.0   \n",
       "\n",
       "     star_color_orange  star_color_orange-red  star_color_pale-yellow-orange  \\\n",
       "220                0.0                    0.0                            0.0   \n",
       "151                0.0                    0.0                            0.0   \n",
       "29                 0.0                    0.0                            1.0   \n",
       "207                0.0                    0.0                            0.0   \n",
       "94                 0.0                    0.0                            0.0   \n",
       "\n",
       "     star_color_red  star_color_white  star_color_whitish  \\\n",
       "220             0.0               0.0                 0.0   \n",
       "151             0.0               0.0                 0.0   \n",
       "29              0.0               0.0                 0.0   \n",
       "207             0.0               0.0                 0.0   \n",
       "94              0.0               0.0                 0.0   \n",
       "\n",
       "     star_color_yellow-white  star_color_yellowish  star_color_yellowish-white  \n",
       "220                      0.0                   0.0                         0.0  \n",
       "151                      0.0                   0.0                         0.0  \n",
       "29                       0.0                   0.0                         0.0  \n",
       "207                      0.0                   0.0                         0.0  \n",
       "94                       0.0                   0.0                         0.0  "
      ]
     },
     "metadata": {},
     "output_type": "display_data"
    },
    {
     "data": {
      "text/html": [
       "<div>\n",
       "<style scoped>\n",
       "    .dataframe tbody tr th:only-of-type {\n",
       "        vertical-align: middle;\n",
       "    }\n",
       "\n",
       "    .dataframe tbody tr th {\n",
       "        vertical-align: top;\n",
       "    }\n",
       "\n",
       "    .dataframe thead th {\n",
       "        text-align: right;\n",
       "    }\n",
       "</style>\n",
       "<table border=\"1\" class=\"dataframe\">\n",
       "  <thead>\n",
       "    <tr style=\"text-align: right;\">\n",
       "      <th></th>\n",
       "      <th>luminosityr</th>\n",
       "      <th>radius</th>\n",
       "      <th>absolute_magnitude_mv</th>\n",
       "      <th>star_type_1</th>\n",
       "      <th>star_type_2</th>\n",
       "      <th>star_type_3</th>\n",
       "      <th>star_type_4</th>\n",
       "      <th>star_type_5</th>\n",
       "      <th>star_color_blue-white</th>\n",
       "      <th>star_color_orange</th>\n",
       "      <th>star_color_orange-red</th>\n",
       "      <th>star_color_pale-yellow-orange</th>\n",
       "      <th>star_color_red</th>\n",
       "      <th>star_color_white</th>\n",
       "      <th>star_color_whitish</th>\n",
       "      <th>star_color_yellow-white</th>\n",
       "      <th>star_color_yellowish</th>\n",
       "      <th>star_color_yellowish-white</th>\n",
       "    </tr>\n",
       "  </thead>\n",
       "  <tbody>\n",
       "    <tr>\n",
       "      <th>63</th>\n",
       "      <td>-0.601546</td>\n",
       "      <td>-0.441278</td>\n",
       "      <td>1.213957</td>\n",
       "      <td>0.0</td>\n",
       "      <td>0.0</td>\n",
       "      <td>0.0</td>\n",
       "      <td>0.0</td>\n",
       "      <td>0.0</td>\n",
       "      <td>0.0</td>\n",
       "      <td>0.0</td>\n",
       "      <td>0.0</td>\n",
       "      <td>0.0</td>\n",
       "      <td>1.0</td>\n",
       "      <td>0.0</td>\n",
       "      <td>0.0</td>\n",
       "      <td>0.0</td>\n",
       "      <td>0.0</td>\n",
       "      <td>0.0</td>\n",
       "    </tr>\n",
       "    <tr>\n",
       "      <th>86</th>\n",
       "      <td>-0.601546</td>\n",
       "      <td>-0.441438</td>\n",
       "      <td>0.753540</td>\n",
       "      <td>0.0</td>\n",
       "      <td>1.0</td>\n",
       "      <td>0.0</td>\n",
       "      <td>0.0</td>\n",
       "      <td>0.0</td>\n",
       "      <td>1.0</td>\n",
       "      <td>0.0</td>\n",
       "      <td>0.0</td>\n",
       "      <td>0.0</td>\n",
       "      <td>0.0</td>\n",
       "      <td>0.0</td>\n",
       "      <td>0.0</td>\n",
       "      <td>0.0</td>\n",
       "      <td>0.0</td>\n",
       "      <td>0.0</td>\n",
       "    </tr>\n",
       "    <tr>\n",
       "      <th>111</th>\n",
       "      <td>0.127558</td>\n",
       "      <td>1.732521</td>\n",
       "      <td>-1.433202</td>\n",
       "      <td>0.0</td>\n",
       "      <td>0.0</td>\n",
       "      <td>0.0</td>\n",
       "      <td>0.0</td>\n",
       "      <td>1.0</td>\n",
       "      <td>0.0</td>\n",
       "      <td>0.0</td>\n",
       "      <td>0.0</td>\n",
       "      <td>0.0</td>\n",
       "      <td>1.0</td>\n",
       "      <td>0.0</td>\n",
       "      <td>0.0</td>\n",
       "      <td>0.0</td>\n",
       "      <td>0.0</td>\n",
       "      <td>0.0</td>\n",
       "    </tr>\n",
       "    <tr>\n",
       "      <th>87</th>\n",
       "      <td>-0.601546</td>\n",
       "      <td>-0.441439</td>\n",
       "      <td>0.663935</td>\n",
       "      <td>0.0</td>\n",
       "      <td>1.0</td>\n",
       "      <td>0.0</td>\n",
       "      <td>0.0</td>\n",
       "      <td>0.0</td>\n",
       "      <td>1.0</td>\n",
       "      <td>0.0</td>\n",
       "      <td>0.0</td>\n",
       "      <td>0.0</td>\n",
       "      <td>0.0</td>\n",
       "      <td>0.0</td>\n",
       "      <td>0.0</td>\n",
       "      <td>0.0</td>\n",
       "      <td>0.0</td>\n",
       "      <td>0.0</td>\n",
       "    </tr>\n",
       "    <tr>\n",
       "      <th>235</th>\n",
       "      <td>1.567423</td>\n",
       "      <td>2.181242</td>\n",
       "      <td>-1.349316</td>\n",
       "      <td>0.0</td>\n",
       "      <td>0.0</td>\n",
       "      <td>0.0</td>\n",
       "      <td>0.0</td>\n",
       "      <td>1.0</td>\n",
       "      <td>0.0</td>\n",
       "      <td>0.0</td>\n",
       "      <td>0.0</td>\n",
       "      <td>0.0</td>\n",
       "      <td>0.0</td>\n",
       "      <td>0.0</td>\n",
       "      <td>0.0</td>\n",
       "      <td>0.0</td>\n",
       "      <td>0.0</td>\n",
       "      <td>0.0</td>\n",
       "    </tr>\n",
       "  </tbody>\n",
       "</table>\n",
       "</div>"
      ],
      "text/plain": [
       "     luminosityr    radius  absolute_magnitude_mv  star_type_1  star_type_2  \\\n",
       "63     -0.601546 -0.441278               1.213957          0.0          0.0   \n",
       "86     -0.601546 -0.441438               0.753540          0.0          1.0   \n",
       "111     0.127558  1.732521              -1.433202          0.0          0.0   \n",
       "87     -0.601546 -0.441439               0.663935          0.0          1.0   \n",
       "235     1.567423  2.181242              -1.349316          0.0          0.0   \n",
       "\n",
       "     star_type_3  star_type_4  star_type_5  star_color_blue-white  \\\n",
       "63           0.0          0.0          0.0                    0.0   \n",
       "86           0.0          0.0          0.0                    1.0   \n",
       "111          0.0          0.0          1.0                    0.0   \n",
       "87           0.0          0.0          0.0                    1.0   \n",
       "235          0.0          0.0          1.0                    0.0   \n",
       "\n",
       "     star_color_orange  star_color_orange-red  star_color_pale-yellow-orange  \\\n",
       "63                 0.0                    0.0                            0.0   \n",
       "86                 0.0                    0.0                            0.0   \n",
       "111                0.0                    0.0                            0.0   \n",
       "87                 0.0                    0.0                            0.0   \n",
       "235                0.0                    0.0                            0.0   \n",
       "\n",
       "     star_color_red  star_color_white  star_color_whitish  \\\n",
       "63              1.0               0.0                 0.0   \n",
       "86              0.0               0.0                 0.0   \n",
       "111             1.0               0.0                 0.0   \n",
       "87              0.0               0.0                 0.0   \n",
       "235             0.0               0.0                 0.0   \n",
       "\n",
       "     star_color_yellow-white  star_color_yellowish  star_color_yellowish-white  \n",
       "63                       0.0                   0.0                         0.0  \n",
       "86                       0.0                   0.0                         0.0  \n",
       "111                      0.0                   0.0                         0.0  \n",
       "87                       0.0                   0.0                         0.0  \n",
       "235                      0.0                   0.0                         0.0  "
      ]
     },
     "execution_count": 27,
     "metadata": {},
     "output_type": "execute_result"
    }
   ],
   "source": [
    "display(x_train.head())\n",
    "x_test.head()"
   ]
  },
  {
   "cell_type": "markdown",
   "id": "1ceb04a0",
   "metadata": {},
   "source": [
    "### Переведём выборки в тензоры"
   ]
  },
  {
   "cell_type": "code",
   "execution_count": 28,
   "id": "df0d7e69",
   "metadata": {},
   "outputs": [],
   "source": [
    "x_train = torch.FloatTensor(x_train.values)\n",
    "x_test = torch.FloatTensor(x_test.values)\n",
    "y_train = torch.FloatTensor(y_train.values)\n",
    "y_test = torch.FloatTensor(y_test.values)"
   ]
  },
  {
   "cell_type": "code",
   "execution_count": 29,
   "id": "f1be6102",
   "metadata": {},
   "outputs": [
    {
     "name": "stdout",
     "output_type": "stream",
     "text": [
      "tensor([[ 0.8120, -0.3738, -1.0004,  ...,  0.0000,  0.0000,  0.0000],\n",
      "        [-0.6013, -0.4366, -0.3913,  ...,  0.0000,  0.0000,  0.0000],\n",
      "        [-0.6015, -0.4414,  0.9394,  ...,  0.0000,  0.0000,  0.0000],\n",
      "        ...,\n",
      "        [-0.6015, -0.4403,  0.9537,  ...,  0.0000,  0.0000,  0.0000],\n",
      "        [-0.5044, -0.4291, -0.7926,  ...,  0.0000,  0.0000,  0.0000],\n",
      "        [-0.6015, -0.4408,  0.7183,  ...,  0.0000,  0.0000,  0.0000]])\n",
      "torch.Size([180, 18])\n",
      "torch.Size([180])\n",
      "torch.Size([60, 18])\n"
     ]
    },
    {
     "data": {
      "text/plain": [
       "torch.Size([60])"
      ]
     },
     "execution_count": 29,
     "metadata": {},
     "output_type": "execute_result"
    }
   ],
   "source": [
    "print(x_train)\n",
    "print(x_train.size())\n",
    "print(y_train.size())\n",
    "print(x_test.size())\n",
    "y_test.size()"
   ]
  },
  {
   "cell_type": "markdown",
   "id": "e54ffabd",
   "metadata": {},
   "source": [
    "**Итог:** На данном этапе с помощью метода train_test_split() данные были разделены на обучающую и тестовую выборки и соответсвующие им разбиение целевого признака. Выделены категориальные и количественные признаки. С помощью StandardScaler() произведено масштабирование количественных признаков. С помощью OneHotEncoder проведено кодирование категориальных признаков. Перевели полученные выборки в тензоры."
   ]
  },
  {
   "cell_type": "markdown",
   "id": "325f8700",
   "metadata": {},
   "source": [
    " ## Построение простой модели нейронной сети — baseline\n"
   ]
  },
  {
   "cell_type": "markdown",
   "id": "1e334db1",
   "metadata": {},
   "source": [
    "### Создаем класс для задания архитектуры нейронной сети. Так как у нас задача регресиии, то на выходном слое у нас будет 1 нейрон. На входе количество нейронов равно количеству признаков. Для задач регрессии на выходе в качестве функции активации лучше использовать  линейную функцию, в скрытых слоях попробуем использовать функцию ReLU()"
   ]
  },
  {
   "cell_type": "code",
   "execution_count": 30,
   "id": "ca56255f",
   "metadata": {},
   "outputs": [],
   "source": [
    "random.seed(RANDOM_STATE)\n",
    "np.random.seed(RANDOM_STATE)\n",
    "torch.manual_seed(RANDOM_STATE)\n",
    "torch.use_deterministic_algorithms(True)"
   ]
  },
  {
   "cell_type": "code",
   "execution_count": 31,
   "id": "7220d90f",
   "metadata": {},
   "outputs": [],
   "source": [
    "class Net(nn.Module):\n",
    "    def __init__(self, n_in_neurons, n_hidden_neurons_1, n_hidden_neurons_2, n_out_neurons):\n",
    "            super(Net, self).__init__()\n",
    "            \n",
    "            self.fc1 = nn.Linear(n_in_neurons, n_hidden_neurons_1)\n",
    "            self.act1 = nn.ReLU()\n",
    "            self.fc2 = nn.Linear(n_hidden_neurons_1, n_hidden_neurons_2)\n",
    "            self.act2 = nn.ReLU()\n",
    "            self.fc3 = nn.Linear(n_hidden_neurons_2, n_out_neurons)\n",
    "            \n",
    "            \n",
    "    def forward(self, x):\n",
    "        x = self.fc1(x)\n",
    "        x = self.act1(x)\n",
    "        x = self.fc2(x)\n",
    "        x = self.act2(x)\n",
    "        x = self.fc3(x)\n",
    "                \n",
    "        return x"
   ]
  },
  {
   "cell_type": "code",
   "execution_count": 32,
   "id": "70fa25bb",
   "metadata": {},
   "outputs": [],
   "source": [
    "net = Net(x_train.shape[1], 20, 15, 1)"
   ]
  },
  {
   "cell_type": "markdown",
   "id": "6507258f",
   "metadata": {},
   "source": [
    "### Проведем обучение полученной сети, оценим качество работы модели, посчитав метрику  RMSE. Построим график зависимости RMSE на тестовой и обучающих выборках в зависимости от эпохи обучения, чтобы оценить как обучается модель (нет ли переобучения, недообучения). Посмотри на поведение модели задав количесво эпох 15000 для начала."
   ]
  },
  {
   "cell_type": "code",
   "execution_count": 33,
   "id": "477ae456",
   "metadata": {},
   "outputs": [
    {
     "name": "stderr",
     "output_type": "stream",
     "text": [
      "C:\\Users\\bniko\\anaconda3\\lib\\site-packages\\transformers\\utils\\generic.py:441: UserWarning: torch.utils._pytree._register_pytree_node is deprecated. Please use torch.utils._pytree.register_pytree_node instead.\n",
      "  _torch_pytree._register_pytree_node(\n"
     ]
    },
    {
     "name": "stdout",
     "output_type": "stream",
     "text": [
      "Best_epoch 7061, Best RMSE train 3070.520751953125, Best RMSE test 3915.221435546875\n"
     ]
    }
   ],
   "source": [
    "loss = nn.MSELoss()\n",
    "optimizer = torch.optim.Adam(net.parameters(), lr=0.01)\n",
    " \n",
    "test_loss_list = []\n",
    "train_loss_list = []\n",
    "num_epochs = 7062\n",
    "best_rmse = 20000\n",
    "\n",
    "for epoch in range(num_epochs):\n",
    "    train_preds = net.forward(x_train).flatten()\n",
    "    train_loss = loss(train_preds, y_train)\n",
    "    train_loss.backward()\n",
    "    optimizer.step()\n",
    "    optimizer.zero_grad()\n",
    " \n",
    "    net.eval()\n",
    "    test_preds = net.forward(x_test).flatten()\n",
    "    test_loss = loss(test_preds, y_test)\n",
    "    rmse_test = torch.sqrt(test_loss).item()\n",
    "    rmse_train = torch.sqrt(train_loss).item()\n",
    "    test_loss_list.append(torch.sqrt(test_loss).item())\n",
    "    train_loss_list.append(torch.sqrt(train_loss).item())\n",
    "    if rmse_test < best_rmse:\n",
    "        best_rmse = rmse_test\n",
    "        best_epoch = epoch\n",
    "        loss_train = rmse_train\n",
    "        best_preds = test_preds\n",
    "print(f'Best_epoch {best_epoch}, Best RMSE train {loss_train}, Best RMSE test {best_rmse}')"
   ]
  },
  {
   "cell_type": "code",
   "execution_count": 34,
   "id": "7e96daca",
   "metadata": {},
   "outputs": [
    {
     "data": {
      "image/png": "[encoded data removed]",
      "text/plain": [
       "<Figure size 640x480 with 1 Axes>"
      ]
     },
     "metadata": {},
     "output_type": "display_data"
    }
   ],
   "source": [
    "plt.plot(test_loss_list, label='RMSE на тестовых данных')\n",
    "plt.plot(train_loss_list, label='RMSE на тренировочных данных')\n",
    "plt.xlabel('Эпоха')\n",
    "plt.ylabel('RMSE')\n",
    "plt.legend()\n",
    "plt.show()"
   ]
  },
  {
   "cell_type": "markdown",
   "id": "126b4cab",
   "metadata": {},
   "source": [
    " **Вывод:** Из полученного графика мы видим, что наилучшая эпоха обучения 7061, далее наблюдается переобучение модели. Поэтому количество эпох надо ограничить 7062. RMSE на тестовой выборке 3915.221435546875, на обучающей выборке 3070.520751953125, что соответсвует условию задачи."
   ]
  },
  {
   "cell_type": "markdown",
   "id": "092e04f7",
   "metadata": {},
   "source": [
    "### Функция для построения графика температур факт-прогноз"
   ]
  },
  {
   "cell_type": "code",
   "execution_count": 35,
   "id": "12eef81c",
   "metadata": {},
   "outputs": [],
   "source": [
    "def fact_forecast(test_preds, y_test):\n",
    "    \n",
    "    '''Функция для визуализации качества предсказания температуры звезд \"Факт-прогноз\"'''\n",
    "    \n",
    "    \n",
    "    y1 = test_preds.detach().numpy() \n",
    "    y2 = y_test.detach().numpy() \n",
    "    x = np.arange(len(y1))\n",
    "\n",
    "    fig,ax = plt.subplots()\n",
    "    fig.set_figwidth(18)\n",
    "    fig.set_figheight(8)\n",
    "    ax.set_xticks(x)\n",
    "    fact = ax.bar(x, y2, width = 0.6, label = 'Факт')\n",
    "    forecast = ax.bar(x, y1, width = 0.3, label = 'Прогноз')\n",
    "    ax.legend()\n",
    "    ax.set_title('График \"Факт-прогноз\"', fontsize=20)\n",
    "    ax.set_xlabel('Номер звезды')\n",
    "    ax.set_ylabel('Температура звезды')\n",
    "    plt.show()"
   ]
  },
  {
   "cell_type": "code",
   "execution_count": 36,
   "id": "6dfb7dab",
   "metadata": {},
   "outputs": [
    {
     "data": {
      "image/png": "[encoded data removed]",
      "text/plain": [
       "<Figure size 1800x800 with 1 Axes>"
      ]
     },
     "metadata": {},
     "output_type": "display_data"
    }
   ],
   "source": [
    "fact_forecast(best_preds, y_test)"
   ]
  },
  {
   "cell_type": "markdown",
   "id": "57d4f9a6",
   "metadata": {},
   "source": [
    "**Вывод:** На данном этапе попробывали подобрать число нейронов во внутренних слоях нейронной сети и, обучив модель, оценить результаты. \n",
    "\n",
    "Были рассммотрены следующие варианты:\n",
    "\n",
    "Число нейронов на первойм скрытом слое 15, на втором скрытом слое 10:\n",
    "- rmse на тестовой выборке - 4254\n",
    "- rmse на обучающей выборке - 3953\n",
    "\n",
    "Число нейронов на первойм скрытом слое 20 на втором скрытом слое 20:\n",
    "- rmse на тестовой выборке - 4230\n",
    "- rmse на обучающей выборке - 3958\n",
    "\n",
    "Число нейронов на первойм скрытом слое 12 на втором скрытом слое 8:\n",
    "- rmse на тестовой выборке - 4234\n",
    "- rmse на обучающей выборке - 3952\n",
    "\n",
    "И представленный в коде вариант, который оказался самым лучшиим из рассматриваемых.\n",
    "Число нейронов на первойм скрытом слое 20 на втором скрытом слое 15:\n",
    "- rmse на тестовой выборке - 3915.22\n",
    "- rmse на обучающей выборке - 3070.52\n",
    "\n",
    "Это соответсвует условтию задачи - метрика RMSE не должна превышать 4500.\n",
    "В дальнейшем будем работать с данной архитектурой модели и попробуем улучшить ее результаты."
   ]
  },
  {
   "cell_type": "markdown",
   "id": "df20414c",
   "metadata": {},
   "source": [
    "## Улучшение сети\n"
   ]
  },
  {
   "cell_type": "markdown",
   "id": "d06e4a57",
   "metadata": {},
   "source": [
    "На данном этапе попробуем улучшить модель, применив обучение с разбивкой на батчи и использовав технику «dropout»."
   ]
  },
  {
   "cell_type": "markdown",
   "id": "6ce82eef",
   "metadata": {},
   "source": [
    "### Напишем функцию для обучения сети с разбивкой на батчи"
   ]
  },
  {
   "cell_type": "code",
   "execution_count": 37,
   "id": "a5a4d6d5",
   "metadata": {},
   "outputs": [],
   "source": [
    "def net_train (net, x_train, x_test, batch_size, num_epochs, lr):\n",
    "    optimizer = torch.optim.Adam(net.parameters(), lr=lr)\n",
    "    loss = nn.MSELoss() \n",
    "    num_epochs = num_epochs\n",
    "    batch_size = batch_size\n",
    "    best_rmse = 20000\n",
    "    num_batches = ceil(len(x_train)/batch_size)\n",
    "    for epoch in range(num_epochs):\n",
    "        order = np.random.permutation(len(x_train))\n",
    "        for batch_idx in range(num_batches):\n",
    "            start_index = batch_idx*batch_size\n",
    "            optimizer.zero_grad()\n",
    "            batch_index = order[start_index:start_index+batch_size]\n",
    "            x_batch = x_train[batch_index]\n",
    "            y_batch = y_train[batch_index]\n",
    "            train_preds = net.forward(x_batch).flatten()\n",
    "            train_loss = loss(train_preds, y_batch)\n",
    "            train_loss.backward()\n",
    "            optimizer.step()\n",
    "            optimizer.zero_grad()\n",
    " \n",
    "        net.eval()\n",
    "        test_preds = net.forward(x_test).flatten()\n",
    "        test_loss = loss(test_preds, y_test)\n",
    "        rmse_test = torch.sqrt(test_loss).item()\n",
    "        rmse_train = torch.sqrt(train_loss).item()\n",
    "    \n",
    "        if rmse_test < best_rmse:\n",
    "            best_rmse = rmse_test\n",
    "            best_epoch = epoch\n",
    "            loss_train = rmse_train\n",
    "            best_preds = test_preds\n",
    "    print(f'Best_epoch {best_epoch}, Best RMSE train {loss_train}, Best RMSE test {best_rmse}')"
   ]
  },
  {
   "cell_type": "code",
   "execution_count": 38,
   "id": "2040d378",
   "metadata": {},
   "outputs": [
    {
     "name": "stdout",
     "output_type": "stream",
     "text": [
      "p= 0.3 batch_size= 40\n",
      "Best_epoch 743, Best RMSE train 5689.85791015625, Best RMSE test 4171.89306640625\n",
      "p= 0.3 batch_size= 50\n",
      "Best_epoch 673, Best RMSE train 3244.5908203125, Best RMSE test 4851.1162109375\n",
      "p= 0.5 batch_size= 40\n",
      "Best_epoch 1036, Best RMSE train 3161.998291015625, Best RMSE test 4147.91455078125\n",
      "p= 0.5 batch_size= 50\n",
      "Best_epoch 555, Best RMSE train 3402.12158203125, Best RMSE test 4680.763671875\n"
     ]
    }
   ],
   "source": [
    "p = [0.3, 0.5]\n",
    "batch_size = [40, 50]\n",
    "\n",
    "for i in p:\n",
    "    class DropoutNeuralNet(nn.Module):\n",
    "        def __init__(self, in_neurons, hidden_neurons_1, hidden_neurons_2, out_neurons):\n",
    "            super(DropoutNeuralNet, self).__init__()\n",
    "            self.fc1 = nn.Linear(in_neurons, hidden_neurons_1)\n",
    "            self.drop1 = nn.Dropout(p=i)\n",
    "            self.ac1 = nn.ReLU()\n",
    "            self.fc2 = nn.Linear(hidden_neurons_1, hidden_neurons_2)\n",
    "            self.ac2 = nn.ReLU()\n",
    "            self.fc3 = nn.Linear(hidden_neurons_2, out_neurons)\n",
    "            \n",
    "    \n",
    "        def forward(self, x):\n",
    "            x = self.fc1(x)\n",
    "            x = self.drop1(x)\n",
    "            x = self.ac1(x)\n",
    "            x = self.fc2(x)\n",
    "            x = self.ac2(x)\n",
    "            x = self.fc3(x)\n",
    "            \n",
    "            return x\n",
    "    net_2 = DropoutNeuralNet(x_train.shape[1], 20, 15, 1)\n",
    "    for batch in batch_size:\n",
    "        print('p=', i, 'batch_size=', batch)\n",
    "        net_train (net = net_2 , x_train =  x_train, x_test =  x_test, batch_size = batch, num_epochs = 10000, lr=0.01)"
   ]
  },
  {
   "cell_type": "markdown",
   "id": "6422e66b",
   "metadata": {},
   "source": [
    "### Из рассмотренных вариантов лучший - p= 0.5 batch_size= 40, RMSE train 3161.998291015625, Best RMSE test 4147.91455078125, Best_epoch 1036"
   ]
  },
  {
   "cell_type": "code",
   "execution_count": 43,
   "id": "f015c457",
   "metadata": {},
   "outputs": [],
   "source": [
    "class DropoutNeuralNet(nn.Module):\n",
    "        def __init__(self, in_neurons, hidden_neurons_1, hidden_neurons_2, out_neurons):\n",
    "            super(DropoutNeuralNet, self).__init__()\n",
    "            self.fc1 = nn.Linear(in_neurons, hidden_neurons_1)\n",
    "            self.drop1 = nn.Dropout(p=0.5)\n",
    "            self.ac1 = nn.ReLU()\n",
    "            self.fc2 = nn.Linear(hidden_neurons_1, hidden_neurons_2)\n",
    "            self.ac2 = nn.ReLU()\n",
    "            self.fc3 = nn.Linear(hidden_neurons_2, out_neurons)\n",
    "            \n",
    "    \n",
    "        def forward(self, x):\n",
    "            x = self.fc1(x)\n",
    "            x = self.drop1(x)\n",
    "            x = self.ac1(x)\n",
    "            x = self.fc2(x)\n",
    "            x = self.ac2(x)\n",
    "            x = self.fc3(x)\n",
    "            \n",
    "            return x"
   ]
  },
  {
   "cell_type": "code",
   "execution_count": 40,
   "id": "ad2f5ecd",
   "metadata": {},
   "outputs": [],
   "source": [
    "net_3 = DropoutNeuralNet(x_train.shape[1], 20, 15, 1)"
   ]
  },
  {
   "cell_type": "code",
   "execution_count": 41,
   "id": "5dd8631c",
   "metadata": {},
   "outputs": [
    {
     "name": "stdout",
     "output_type": "stream",
     "text": [
      "Best_epoch 9999, Best RMSE train 3403.487060546875, Best RMSE test 4372.892578125\n"
     ]
    }
   ],
   "source": [
    "optimizer = torch.optim.Adam(net_3.parameters(), lr=0.01)\n",
    "loss = nn.MSELoss() \n",
    "\n",
    "num_epochs = 10000\n",
    "batch_size = 40\n",
    "best_rmse = 20000\n",
    "num_batches = ceil(len(x_train)/batch_size)\n",
    "for epoch in range(num_epochs):\n",
    "    order = np.random.permutation(len(x_train))\n",
    "    for batch_idx in range(num_batches):\n",
    "        start_index = batch_idx*batch_size\n",
    "        optimizer.zero_grad()\n",
    "        batch_index = order[start_index:start_index+batch_size]\n",
    "        x_batch = x_train[batch_index]\n",
    "        y_batch = y_train[batch_index]\n",
    "        train_preds = net_3.forward(x_batch).flatten()\n",
    "        train_loss = loss(train_preds, y_batch)\n",
    "        train_loss.backward()\n",
    "        optimizer.step()\n",
    "        optimizer.zero_grad()\n",
    " \n",
    "    net_3.eval()\n",
    "    test_preds = net_3.forward(x_test).flatten()\n",
    "    test_loss = loss(test_preds, y_test)\n",
    "    rmse_test = torch.sqrt(test_loss).item()\n",
    "    rmse_train = torch.sqrt(train_loss).item()\n",
    "    \n",
    "    \n",
    "    if rmse_test < best_rmse:\n",
    "        best_rmse_1 = rmse_test\n",
    "        best_epoch_1 = epoch\n",
    "        loss_train_1 = rmse_train\n",
    "        best_preds_1 = test_preds\n",
    "print(f'Best_epoch {best_epoch_1}, Best RMSE train {loss_train_1}, Best RMSE test {best_rmse_1}')"
   ]
  },
  {
   "cell_type": "code",
   "execution_count": 42,
   "id": "1cf11c69",
   "metadata": {},
   "outputs": [
    {
     "data": {
      "image/png": "[encoded data removed]",
      "text/plain": [
       "<Figure size 1800x800 with 1 Axes>"
      ]
     },
     "metadata": {},
     "output_type": "display_data"
    }
   ],
   "source": [
    "fact_forecast(best_preds_1, y_test)"
   ]
  },
  {
   "cell_type": "markdown",
   "id": "b28f00b6",
   "metadata": {},
   "source": [
    "**Вывод**\n",
    "Улучшить результаты нейронной сети путем добавления обучения с разбивкой на батчи и использованием «dropout» не удалось, показание метрики rmse  ухудшилось - 4308.56298828125 против 3915.221435546875 на нейронной сети без обучения с разбивкой на батчи и использованием «dropout». "
   ]
  },
  {
   "cell_type": "markdown",
   "id": "6bc897b1",
   "metadata": {},
   "source": [
    "**Итоговый вывод:**\n",
    "В процессе выполнения работы было сделано следующее:\n",
    "\n",
    "1. Прведена загрузчка и первоначальное изучение данных -  Размер дата фрейма - 240 строк на 7 столбцов. Явных дубликатов и пропусков в данных нет.  Из матрицы корреляции видно, что есть два мультиколлениарных признака Star type и Absolute magnitude. В столбцах Temperature(K), Luminosity(L/Lo), Radius(R/Ro) - наблюдаются выбросы. Распределение количественных признаков не относитсмя к нормальномую. Изменили тип данных с столбце с типом звезд, убрали из названия столбцов пропуски, удалили столбец Unnamed: 0.\n",
    "\n",
    "2. Прроведен анали данных - На данном этапе были более подробно рассмотрены следующие признаки:\n",
    "\n",
    "star_type - Категриальный признак. В данном признаке 6 типов звезд, по 40 звезд в каждой категории.\n",
    "\n",
    "star_сolor - Удалили неявные дубликаты, сократив количество уникальных значений в данном столбце с 19 до 11. Данный признак относится к категориальным. Наибольшее количество звезд в датасете относится к категории красных, затем следуют синие(голубые) и бело-голубые. Наименьшее количество звезд относится к категориям pale-yellow-orange и orange-red. Несмотря на то, что данных в этих категориях мало, оставляем их, т.к. в целом данных для обучения немного, такие градации цвета есть, и по ним также надо предсказывать температуру.\n",
    "\n",
    "temperature_k - Целевой признак. Данные, в том числе попадающие в зону выбрасов, выглядят правдоподобно, поэтому все данные были оставлены.\n",
    "\n",
    "luminosityr, radius - Количественные признаки. Данные, в том числе попадающие в зону выбрасов, выглядят правдоподобно, поэтому все данные были оставлены.\n",
    "\n",
    "3. Подготовка данных  - На данном этапе с помощью метода train_test_split() данные были разделены на обучающую и тестовую выборки и соответсвующие им разбиение целевого признака. Выделены категориальные и количественные признаки. С помощью StandardScaler() произведено масштабирование количественных признаков. С помощью OneHotEncoder проведено кодирование категориальных признаков. Перевели полученные выборки в тензоры.\n",
    "\n",
    "4. Построение простой модели нейронной сети — baseline.\n",
    "Были рассммотрены следующие варианты:\n",
    "\n",
    "Число нейронов на первойм скрытом слое 15, на втором скрытом слое 10:\n",
    "\n",
    "rmse на тестовой выборке - 4254\n",
    "rmse на обучающей выборке - 3953\n",
    "\n",
    "Число нейронов на первойм скрытом слое 20 на втором скрытом слое 20:\n",
    "\n",
    "rmse на тестовой выборке - 4230\n",
    "rmse на обучающей выборке - 3958\n",
    "\n",
    "Число нейронов на первойм скрытом слое 12 на втором скрытом слое 8:\n",
    "\n",
    "rmse на тестовой выборке - 4234\n",
    "rmse на обучающей выборке - 3952\n",
    "\n",
    "И представленный в коде вариант, который оказался самым лучшиим из рассматриваемых. Число нейронов на первойм скрытом слое 20 на втором скрытом слое 15:\n",
    "\n",
    "rmse на тестовой выборке - 3915.22\n",
    "rmse на обучающей выборке - 3070.52\n",
    "\n",
    "Данные показатели соответсвуют условию задачи - Метрика RMSE не должна превышать 4500.\n",
    "В дальнейшем будем работать с данной архитектурой модели и попробуем улучшить ее результаты.\n",
    "\n",
    "5. Улучшение результатов работы сети - Улучшить результаты нейронной сети путем добавления обучения с разбивкой на батчи и использованием «dropout» не удалось, показание метрики rmse  ухудшилось - 4308.56298828125 против 3915.221435546875 на нейронной сети без обучения с разбивкой на батчи и использованием «dropout».\n",
    "\n",
    "Таким образом лучшим вариантом сети с rmse на тестовой выборке = 3915.22 оказалась сеть net со следующими параметрами:\n",
    "net = Net(18, 20, 15, 1), обученная без разбиения на батчи и использолвания «dropout»    "
   ]
  }
 ],
 "metadata": {
  "ExecuteTimeLog": [
   {
    "duration": 1967,
    "start_time": "2023-11-25T08:19:50.926Z"
   },
   {
    "duration": 0,
    "start_time": "2023-11-25T08:19:52.897Z"
   },
   {
    "duration": 0,
    "start_time": "2023-11-25T08:19:52.898Z"
   },
   {
    "duration": 0,
    "start_time": "2023-11-25T08:19:52.899Z"
   },
   {
    "duration": 0,
    "start_time": "2023-11-25T08:19:52.900Z"
   },
   {
    "duration": 0,
    "start_time": "2023-11-25T08:19:52.901Z"
   },
   {
    "duration": 0,
    "start_time": "2023-11-25T08:19:52.903Z"
   },
   {
    "duration": 0,
    "start_time": "2023-11-25T08:19:52.915Z"
   },
   {
    "duration": 0,
    "start_time": "2023-11-25T08:19:52.917Z"
   },
   {
    "duration": 0,
    "start_time": "2023-11-25T08:19:52.918Z"
   },
   {
    "duration": 0,
    "start_time": "2023-11-25T08:19:52.919Z"
   },
   {
    "duration": 1,
    "start_time": "2023-11-25T08:19:52.920Z"
   },
   {
    "duration": 0,
    "start_time": "2023-11-25T08:19:52.921Z"
   },
   {
    "duration": 0,
    "start_time": "2023-11-25T08:19:52.923Z"
   },
   {
    "duration": 0,
    "start_time": "2023-11-25T08:19:52.924Z"
   },
   {
    "duration": 0,
    "start_time": "2023-11-25T08:19:52.925Z"
   },
   {
    "duration": 0,
    "start_time": "2023-11-25T08:19:52.926Z"
   },
   {
    "duration": 0,
    "start_time": "2023-11-25T08:19:52.928Z"
   },
   {
    "duration": 0,
    "start_time": "2023-11-25T08:19:52.929Z"
   },
   {
    "duration": 0,
    "start_time": "2023-11-25T08:19:52.930Z"
   },
   {
    "duration": 0,
    "start_time": "2023-11-25T08:19:52.931Z"
   },
   {
    "duration": 0,
    "start_time": "2023-11-25T08:19:52.932Z"
   },
   {
    "duration": 0,
    "start_time": "2023-11-25T08:19:52.933Z"
   },
   {
    "duration": 0,
    "start_time": "2023-11-25T08:19:52.976Z"
   },
   {
    "duration": 0,
    "start_time": "2023-11-25T08:19:52.977Z"
   },
   {
    "duration": 0,
    "start_time": "2023-11-25T08:19:53.015Z"
   },
   {
    "duration": 0,
    "start_time": "2023-11-25T08:19:53.017Z"
   },
   {
    "duration": 0,
    "start_time": "2023-11-25T08:19:53.018Z"
   },
   {
    "duration": 0,
    "start_time": "2023-11-25T08:19:53.019Z"
   },
   {
    "duration": 0,
    "start_time": "2023-11-25T08:19:53.020Z"
   },
   {
    "duration": 0,
    "start_time": "2023-11-25T08:19:53.021Z"
   },
   {
    "duration": 0,
    "start_time": "2023-11-25T08:19:53.023Z"
   },
   {
    "duration": 0,
    "start_time": "2023-11-25T08:19:53.024Z"
   },
   {
    "duration": 0,
    "start_time": "2023-11-25T08:19:53.026Z"
   },
   {
    "duration": 0,
    "start_time": "2023-11-25T08:19:53.027Z"
   },
   {
    "duration": 0,
    "start_time": "2023-11-25T08:19:53.028Z"
   },
   {
    "duration": 0,
    "start_time": "2023-11-25T08:19:53.029Z"
   },
   {
    "duration": 0,
    "start_time": "2023-11-25T08:19:53.031Z"
   },
   {
    "duration": 0,
    "start_time": "2023-11-25T08:19:53.032Z"
   },
   {
    "duration": 0,
    "start_time": "2023-11-25T08:19:53.034Z"
   },
   {
    "duration": 0,
    "start_time": "2023-11-25T08:19:53.035Z"
   },
   {
    "duration": 0,
    "start_time": "2023-11-25T08:19:53.036Z"
   },
   {
    "duration": 0,
    "start_time": "2023-11-25T08:19:53.037Z"
   },
   {
    "duration": 0,
    "start_time": "2023-11-25T08:19:53.038Z"
   },
   {
    "duration": 0,
    "start_time": "2023-11-25T08:19:53.039Z"
   },
   {
    "duration": 0,
    "start_time": "2023-11-25T08:19:53.040Z"
   },
   {
    "duration": 0,
    "start_time": "2023-11-25T08:19:53.040Z"
   },
   {
    "duration": 5745,
    "start_time": "2023-11-25T08:20:19.668Z"
   },
   {
    "duration": 2,
    "start_time": "2023-11-25T08:20:25.415Z"
   },
   {
    "duration": 4,
    "start_time": "2023-11-25T08:20:25.419Z"
   },
   {
    "duration": 1148,
    "start_time": "2023-11-25T08:20:25.425Z"
   },
   {
    "duration": 5,
    "start_time": "2023-11-25T08:20:26.575Z"
   },
   {
    "duration": 4,
    "start_time": "2023-11-25T08:20:26.581Z"
   },
   {
    "duration": 11,
    "start_time": "2023-11-25T08:20:26.586Z"
   },
   {
    "duration": 25,
    "start_time": "2023-11-25T08:20:26.598Z"
   },
   {
    "duration": 112,
    "start_time": "2023-11-25T08:20:26.626Z"
   },
   {
    "duration": 3,
    "start_time": "2023-11-25T08:20:26.739Z"
   },
   {
    "duration": 10,
    "start_time": "2023-11-25T08:20:26.743Z"
   },
   {
    "duration": 145,
    "start_time": "2023-11-25T08:20:26.754Z"
   },
   {
    "duration": 94,
    "start_time": "2023-11-25T08:20:26.900Z"
   },
   {
    "duration": 20,
    "start_time": "2023-11-25T08:20:26.996Z"
   },
   {
    "duration": 100,
    "start_time": "2023-11-25T08:20:27.017Z"
   },
   {
    "duration": 167,
    "start_time": "2023-11-25T08:20:27.119Z"
   },
   {
    "duration": 10,
    "start_time": "2023-11-25T08:20:27.288Z"
   },
   {
    "duration": 180,
    "start_time": "2023-11-25T08:20:27.299Z"
   },
   {
    "duration": 172,
    "start_time": "2023-11-25T08:20:27.480Z"
   },
   {
    "duration": 16,
    "start_time": "2023-11-25T08:20:27.653Z"
   },
   {
    "duration": 7,
    "start_time": "2023-11-25T08:20:27.670Z"
   },
   {
    "duration": 7,
    "start_time": "2023-11-25T08:20:27.678Z"
   },
   {
    "duration": 7,
    "start_time": "2023-11-25T08:20:27.686Z"
   },
   {
    "duration": 40,
    "start_time": "2023-11-25T08:20:27.694Z"
   },
   {
    "duration": 138,
    "start_time": "2023-11-25T08:20:27.736Z"
   },
   {
    "duration": 0,
    "start_time": "2023-11-25T08:20:27.876Z"
   },
   {
    "duration": 0,
    "start_time": "2023-11-25T08:20:27.878Z"
   },
   {
    "duration": 0,
    "start_time": "2023-11-25T08:20:27.879Z"
   },
   {
    "duration": 0,
    "start_time": "2023-11-25T08:20:27.880Z"
   },
   {
    "duration": 0,
    "start_time": "2023-11-25T08:20:27.881Z"
   },
   {
    "duration": 0,
    "start_time": "2023-11-25T08:20:27.882Z"
   },
   {
    "duration": 0,
    "start_time": "2023-11-25T08:20:27.883Z"
   },
   {
    "duration": 0,
    "start_time": "2023-11-25T08:20:27.885Z"
   },
   {
    "duration": 0,
    "start_time": "2023-11-25T08:20:27.886Z"
   },
   {
    "duration": 0,
    "start_time": "2023-11-25T08:20:27.887Z"
   },
   {
    "duration": 0,
    "start_time": "2023-11-25T08:20:27.888Z"
   },
   {
    "duration": 0,
    "start_time": "2023-11-25T08:20:27.889Z"
   },
   {
    "duration": 0,
    "start_time": "2023-11-25T08:20:27.890Z"
   },
   {
    "duration": 0,
    "start_time": "2023-11-25T08:20:27.892Z"
   },
   {
    "duration": 0,
    "start_time": "2023-11-25T08:20:27.893Z"
   },
   {
    "duration": 0,
    "start_time": "2023-11-25T08:20:27.917Z"
   },
   {
    "duration": 0,
    "start_time": "2023-11-25T08:20:27.918Z"
   },
   {
    "duration": 0,
    "start_time": "2023-11-25T08:20:27.920Z"
   },
   {
    "duration": 0,
    "start_time": "2023-11-25T08:20:27.921Z"
   },
   {
    "duration": 0,
    "start_time": "2023-11-25T08:20:27.922Z"
   },
   {
    "duration": 0,
    "start_time": "2023-11-25T08:20:27.924Z"
   },
   {
    "duration": 0,
    "start_time": "2023-11-25T08:20:27.925Z"
   }
  ],
  "kernelspec": {
   "display_name": "Python 3 (ipykernel)",
   "language": "python",
   "name": "python3"
  },
  "language_info": {
   "codemirror_mode": {
    "name": "ipython",
    "version": 3
   },
   "file_extension": ".py",
   "mimetype": "text/x-python",
   "name": "python",
   "nbconvert_exporter": "python",
   "pygments_lexer": "ipython3",
   "version": "3.9.13"
  },
  "toc": {
   "base_numbering": 1,
   "nav_menu": {},
   "number_sections": true,
   "sideBar": true,
   "skip_h1_title": true,
   "title_cell": "Table of Contents",
   "title_sidebar": "Contents",
   "toc_cell": false,
   "toc_position": {},
   "toc_section_display": true,
   "toc_window_display": false
  }
 },
 "nbformat": 4,
 "nbformat_minor": 5
}
